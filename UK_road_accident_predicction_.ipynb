{
  "nbformat": 4,
  "nbformat_minor": 0,
  "metadata": {
    "colab": {
      "provenance": [],
      "include_colab_link": true
    },
    "kernelspec": {
      "name": "python3",
      "display_name": "Python 3"
    },
    "language_info": {
      "name": "python"
    }
  },
  "cells": [
    {
      "cell_type": "markdown",
      "metadata": {
        "id": "view-in-github",
        "colab_type": "text"
      },
      "source": [
        "<a href=\"https://colab.research.google.com/github/KithminiP/UK_accident_prediciton/blob/main/UK_road_accident_predicction_.ipynb\" target=\"_parent\"><img src=\"https://colab.research.google.com/assets/colab-badge.svg\" alt=\"Open In Colab\"/></a>"
      ]
    },
    {
      "cell_type": "code",
      "source": [
        "PY = False"
      ],
      "metadata": {
        "id": "oxKDmaL-huA3"
      },
      "execution_count": null,
      "outputs": []
    },
    {
      "cell_type": "code",
      "execution_count": null,
      "metadata": {
        "id": "Dvamtm3EYoVj"
      },
      "outputs": [],
      "source": [
        "from IPython.display import HTML\n",
        "import matplotlib.pyplot as plt # visualisation library\n",
        "import numpy as np # numpy is a library that allows us to work with vectors and matrices\n",
        "import os\n",
        "import pandas as pd # pandas is a library that allows us to work with DataFrames\n",
        "from imblearn.over_sampling import RandomOverSampler, SMOTE\n",
        "from scipy import stats\n",
        "from scipy.stats import randint\n",
        "from sklearn.compose import ColumnTransformer\n",
        "from sklearn.decomposition import PCA\n",
        "from sklearn.ensemble import RandomForestClassifier\n",
        "from sklearn.feature_extraction.text import CountVectorizer, TfidfVectorizer\n",
        "from sklearn import metrics\n",
        "from sklearn import svm\n",
        "from sklearn.impute import SimpleImputer\n",
        "from sklearn.linear_model import SGDClassifier\n",
        "from sklearn.metrics import balanced_accuracy_score\n",
        "from sklearn.metrics import classification_report\n",
        "from sklearn.metrics import confusion_matrix, precision_score, recall_score\n",
        "from sklearn.metrics import ConfusionMatrixDisplay\n",
        "from sklearn.metrics import f1_score\n",
        "from sklearn.metrics import accuracy_score\n",
        "from sklearn.model_selection import train_test_split\n",
        "from sklearn.model_selection import RandomizedSearchCV\n",
        "from sklearn.neighbors import NearestNeighbors\n",
        "from sklearn.pipeline import Pipeline\n",
        "from imblearn.pipeline import Pipeline as ImbPipeline\n",
        "from sklearn.preprocessing import OneHotEncoder\n",
        "from sklearn.preprocessing import StandardScaler\n",
        "from sklearn.svm import LinearSVC\n",
        "from sklearn.tree import DecisionTreeClassifier\n",
        "from time import time as tt\n",
        "np.random.seed(0)"
      ]
    },
    {
      "cell_type": "code",
      "source": [
        "def pretty_print_df(value_counts_):\n",
        "  \"Quick function to display value counts more nicely\"\n",
        "  display(HTML(pd.DataFrame(value_counts_).to_html()))"
      ],
      "metadata": {
        "id": "u24RHnsia9oD"
      },
      "execution_count": null,
      "outputs": []
    },
    {
      "cell_type": "markdown",
      "source": [
        "Importing the main data set and inspecting"
      ],
      "metadata": {
        "id": "1P4OEwUJUgmP"
      }
    },
    {
      "cell_type": "code",
      "source": [
        "# Load dataset from local drive (for colab notebook)\n",
        "from google.colab import files\n",
        "import io\n",
        "uploaded = files.upload()    # Will prompt you to select file: remember to choose the right one!\n",
        "main_dataset = pd.read_csv(io.BytesIO(uploaded['OPTION1_uk_road_accident_2019_coursework_final.csv']),index_col=0) # python will expect the first file to be called OPTION1_uk_road_accident_2019_coursework_final\n",
        "\n"
      ],
      "metadata": {
        "colab": {
          "base_uri": "https://localhost:8080/",
          "height": 73
        },
        "id": "iils1NIXbBqC",
        "outputId": "aeb5b930-efdd-4f2d-dc11-6376e8125656"
      },
      "execution_count": null,
      "outputs": [
        {
          "output_type": "display_data",
          "data": {
            "text/plain": [
              "<IPython.core.display.HTML object>"
            ],
            "text/html": [
              "\n",
              "     <input type=\"file\" id=\"files-662b569e-b28a-4923-a503-c06a9bc2de25\" name=\"files[]\" multiple disabled\n",
              "        style=\"border:none\" />\n",
              "     <output id=\"result-662b569e-b28a-4923-a503-c06a9bc2de25\">\n",
              "      Upload widget is only available when the cell has been executed in the\n",
              "      current browser session. Please rerun this cell to enable.\n",
              "      </output>\n",
              "      <script>// Copyright 2017 Google LLC\n",
              "//\n",
              "// Licensed under the Apache License, Version 2.0 (the \"License\");\n",
              "// you may not use this file except in compliance with the License.\n",
              "// You may obtain a copy of the License at\n",
              "//\n",
              "//      http://www.apache.org/licenses/LICENSE-2.0\n",
              "//\n",
              "// Unless required by applicable law or agreed to in writing, software\n",
              "// distributed under the License is distributed on an \"AS IS\" BASIS,\n",
              "// WITHOUT WARRANTIES OR CONDITIONS OF ANY KIND, either express or implied.\n",
              "// See the License for the specific language governing permissions and\n",
              "// limitations under the License.\n",
              "\n",
              "/**\n",
              " * @fileoverview Helpers for google.colab Python module.\n",
              " */\n",
              "(function(scope) {\n",
              "function span(text, styleAttributes = {}) {\n",
              "  const element = document.createElement('span');\n",
              "  element.textContent = text;\n",
              "  for (const key of Object.keys(styleAttributes)) {\n",
              "    element.style[key] = styleAttributes[key];\n",
              "  }\n",
              "  return element;\n",
              "}\n",
              "\n",
              "// Max number of bytes which will be uploaded at a time.\n",
              "const MAX_PAYLOAD_SIZE = 100 * 1024;\n",
              "\n",
              "function _uploadFiles(inputId, outputId) {\n",
              "  const steps = uploadFilesStep(inputId, outputId);\n",
              "  const outputElement = document.getElementById(outputId);\n",
              "  // Cache steps on the outputElement to make it available for the next call\n",
              "  // to uploadFilesContinue from Python.\n",
              "  outputElement.steps = steps;\n",
              "\n",
              "  return _uploadFilesContinue(outputId);\n",
              "}\n",
              "\n",
              "// This is roughly an async generator (not supported in the browser yet),\n",
              "// where there are multiple asynchronous steps and the Python side is going\n",
              "// to poll for completion of each step.\n",
              "// This uses a Promise to block the python side on completion of each step,\n",
              "// then passes the result of the previous step as the input to the next step.\n",
              "function _uploadFilesContinue(outputId) {\n",
              "  const outputElement = document.getElementById(outputId);\n",
              "  const steps = outputElement.steps;\n",
              "\n",
              "  const next = steps.next(outputElement.lastPromiseValue);\n",
              "  return Promise.resolve(next.value.promise).then((value) => {\n",
              "    // Cache the last promise value to make it available to the next\n",
              "    // step of the generator.\n",
              "    outputElement.lastPromiseValue = value;\n",
              "    return next.value.response;\n",
              "  });\n",
              "}\n",
              "\n",
              "/**\n",
              " * Generator function which is called between each async step of the upload\n",
              " * process.\n",
              " * @param {string} inputId Element ID of the input file picker element.\n",
              " * @param {string} outputId Element ID of the output display.\n",
              " * @return {!Iterable<!Object>} Iterable of next steps.\n",
              " */\n",
              "function* uploadFilesStep(inputId, outputId) {\n",
              "  const inputElement = document.getElementById(inputId);\n",
              "  inputElement.disabled = false;\n",
              "\n",
              "  const outputElement = document.getElementById(outputId);\n",
              "  outputElement.innerHTML = '';\n",
              "\n",
              "  const pickedPromise = new Promise((resolve) => {\n",
              "    inputElement.addEventListener('change', (e) => {\n",
              "      resolve(e.target.files);\n",
              "    });\n",
              "  });\n",
              "\n",
              "  const cancel = document.createElement('button');\n",
              "  inputElement.parentElement.appendChild(cancel);\n",
              "  cancel.textContent = 'Cancel upload';\n",
              "  const cancelPromise = new Promise((resolve) => {\n",
              "    cancel.onclick = () => {\n",
              "      resolve(null);\n",
              "    };\n",
              "  });\n",
              "\n",
              "  // Wait for the user to pick the files.\n",
              "  const files = yield {\n",
              "    promise: Promise.race([pickedPromise, cancelPromise]),\n",
              "    response: {\n",
              "      action: 'starting',\n",
              "    }\n",
              "  };\n",
              "\n",
              "  cancel.remove();\n",
              "\n",
              "  // Disable the input element since further picks are not allowed.\n",
              "  inputElement.disabled = true;\n",
              "\n",
              "  if (!files) {\n",
              "    return {\n",
              "      response: {\n",
              "        action: 'complete',\n",
              "      }\n",
              "    };\n",
              "  }\n",
              "\n",
              "  for (const file of files) {\n",
              "    const li = document.createElement('li');\n",
              "    li.append(span(file.name, {fontWeight: 'bold'}));\n",
              "    li.append(span(\n",
              "        `(${file.type || 'n/a'}) - ${file.size} bytes, ` +\n",
              "        `last modified: ${\n",
              "            file.lastModifiedDate ? file.lastModifiedDate.toLocaleDateString() :\n",
              "                                    'n/a'} - `));\n",
              "    const percent = span('0% done');\n",
              "    li.appendChild(percent);\n",
              "\n",
              "    outputElement.appendChild(li);\n",
              "\n",
              "    const fileDataPromise = new Promise((resolve) => {\n",
              "      const reader = new FileReader();\n",
              "      reader.onload = (e) => {\n",
              "        resolve(e.target.result);\n",
              "      };\n",
              "      reader.readAsArrayBuffer(file);\n",
              "    });\n",
              "    // Wait for the data to be ready.\n",
              "    let fileData = yield {\n",
              "      promise: fileDataPromise,\n",
              "      response: {\n",
              "        action: 'continue',\n",
              "      }\n",
              "    };\n",
              "\n",
              "    // Use a chunked sending to avoid message size limits. See b/62115660.\n",
              "    let position = 0;\n",
              "    do {\n",
              "      const length = Math.min(fileData.byteLength - position, MAX_PAYLOAD_SIZE);\n",
              "      const chunk = new Uint8Array(fileData, position, length);\n",
              "      position += length;\n",
              "\n",
              "      const base64 = btoa(String.fromCharCode.apply(null, chunk));\n",
              "      yield {\n",
              "        response: {\n",
              "          action: 'append',\n",
              "          file: file.name,\n",
              "          data: base64,\n",
              "        },\n",
              "      };\n",
              "\n",
              "      let percentDone = fileData.byteLength === 0 ?\n",
              "          100 :\n",
              "          Math.round((position / fileData.byteLength) * 100);\n",
              "      percent.textContent = `${percentDone}% done`;\n",
              "\n",
              "    } while (position < fileData.byteLength);\n",
              "  }\n",
              "\n",
              "  // All done.\n",
              "  yield {\n",
              "    response: {\n",
              "      action: 'complete',\n",
              "    }\n",
              "  };\n",
              "}\n",
              "\n",
              "scope.google = scope.google || {};\n",
              "scope.google.colab = scope.google.colab || {};\n",
              "scope.google.colab._files = {\n",
              "  _uploadFiles,\n",
              "  _uploadFilesContinue,\n",
              "};\n",
              "})(self);\n",
              "</script> "
            ]
          },
          "metadata": {}
        },
        {
          "output_type": "stream",
          "name": "stdout",
          "text": [
            "Saving OPTION1_uk_road_accident_2019_coursework_final.csv to OPTION1_uk_road_accident_2019_coursework_final (1).csv\n"
          ]
        }
      ]
    },
    {
      "cell_type": "markdown",
      "source": [
        "\n",
        "Dimensions of Main Dataset\n",
        "\n"
      ],
      "metadata": {
        "id": "t9dE1bTqj1t7"
      }
    },
    {
      "cell_type": "code",
      "source": [
        "print(main_dataset.shape)"
      ],
      "metadata": {
        "colab": {
          "base_uri": "https://localhost:8080/"
        },
        "id": "x3-8rTUHb155",
        "outputId": "956d198b-889b-43a8-f8ad-86a766c7d4cc"
      },
      "execution_count": null,
      "outputs": [
        {
          "output_type": "stream",
          "name": "stdout",
          "text": [
            "(31647, 13)\n"
          ]
        }
      ]
    },
    {
      "cell_type": "code",
      "source": [
        "print(main_dataset.columns)"
      ],
      "metadata": {
        "colab": {
          "base_uri": "https://localhost:8080/"
        },
        "id": "Sul26KEjb4S1",
        "outputId": "068dbb7c-51e4-4691-a18b-ab6f74ba0eff"
      },
      "execution_count": null,
      "outputs": [
        {
          "output_type": "stream",
          "name": "stdout",
          "text": [
            "Index(['speed_limit', 'light_conditions', 'weather_conditions',\n",
            "       'road_surface_conditions', 'vehicle_type', 'junction_location',\n",
            "       'skidding_and_overturning', 'vehicle_leaving_carriageway',\n",
            "       'hit_object_off_carriageway', 'first_point_of_impact', 'sex_of_driver',\n",
            "       'age_of_oldest_driver', 'accident_severity'],\n",
            "      dtype='object')\n"
          ]
        }
      ]
    },
    {
      "cell_type": "code",
      "source": [
        "print(main_dataset.dtypes)"
      ],
      "metadata": {
        "colab": {
          "base_uri": "https://localhost:8080/"
        },
        "id": "eNOwKyETca24",
        "outputId": "0d236c2d-d95b-4ae4-d23e-2959654d91b5"
      },
      "execution_count": null,
      "outputs": [
        {
          "output_type": "stream",
          "name": "stdout",
          "text": [
            "speed_limit                      int64\n",
            "light_conditions                object\n",
            "weather_conditions              object\n",
            "road_surface_conditions         object\n",
            "vehicle_type                    object\n",
            "junction_location               object\n",
            "skidding_and_overturning        object\n",
            "vehicle_leaving_carriageway     object\n",
            "hit_object_off_carriageway      object\n",
            "first_point_of_impact           object\n",
            "sex_of_driver                   object\n",
            "age_of_oldest_driver           float64\n",
            "accident_severity               object\n",
            "dtype: object\n"
          ]
        }
      ]
    },
    {
      "cell_type": "code",
      "source": [
        "main_dataset.head(10)"
      ],
      "metadata": {
        "colab": {
          "base_uri": "https://localhost:8080/",
          "height": 632
        },
        "id": "yA6s5WMlcfZn",
        "outputId": "c0a38d38-e556-4694-d8a0-051a5b7cdcaa"
      },
      "execution_count": null,
      "outputs": [
        {
          "output_type": "execute_result",
          "data": {
            "text/plain": [
              "                speed_limit light_conditions weather_conditions  \\\n",
              "accident_index                                                    \n",
              "2019010225080            30         darkness              other   \n",
              "2019200908684            30         darkness               fine   \n",
              "2019040860897            40         daylight               fine   \n",
              "2019460847205            40         daylight               fine   \n",
              "2019051911581            30         daylight               fine   \n",
              "2019400862270            60         daylight               fine   \n",
              "2019420894599            30         darkness               fine   \n",
              "2019010162791            50         daylight               fine   \n",
              "2019360909153            60         daylight               fine   \n",
              "2019500856761            60         daylight               fine   \n",
              "\n",
              "               road_surface_conditions        vehicle_type  \\\n",
              "accident_index                                               \n",
              "2019010225080              wet or damp    at least one van   \n",
              "2019200908684                      dry           only cars   \n",
              "2019040860897                      dry           only cars   \n",
              "2019460847205                      dry           only cars   \n",
              "2019051911581                      dry           only cars   \n",
              "2019400862270                      dry  at least one biped   \n",
              "2019420894599              wet or damp           only cars   \n",
              "2019010162791                      dry           only cars   \n",
              "2019360909153                      dry    at least one van   \n",
              "2019500856761                      dry           only cars   \n",
              "\n",
              "                                     junction_location  \\\n",
              "accident_index                                           \n",
              "2019010225080       at or within 20 metres of junction   \n",
              "2019200908684       at or within 20 metres of junction   \n",
              "2019040860897       at or within 20 metres of junction   \n",
              "2019460847205   not at or within 20 metres of junction   \n",
              "2019051911581   not at or within 20 metres of junction   \n",
              "2019400862270   not at or within 20 metres of junction   \n",
              "2019420894599   not at or within 20 metres of junction   \n",
              "2019010162791       at or within 20 metres of junction   \n",
              "2019360909153       at or within 20 metres of junction   \n",
              "2019500856761   not at or within 20 metres of junction   \n",
              "\n",
              "                  skidding_and_overturning  \\\n",
              "accident_index                               \n",
              "2019010225080   no skidding or overturning   \n",
              "2019200908684   no skidding or overturning   \n",
              "2019040860897   no skidding or overturning   \n",
              "2019460847205   no skidding or overturning   \n",
              "2019051911581   no skidding or overturning   \n",
              "2019400862270   no skidding or overturning   \n",
              "2019420894599   no skidding or overturning   \n",
              "2019010162791   no skidding or overturning   \n",
              "2019360909153   no skidding or overturning   \n",
              "2019500856761   no skidding or overturning   \n",
              "\n",
              "                             vehicle_leaving_carriageway  \\\n",
              "accident_index                                             \n",
              "2019010225080                   none leaving carriageway   \n",
              "2019200908684   at least one vehicle leaving carriageway   \n",
              "2019040860897                   none leaving carriageway   \n",
              "2019460847205                   none leaving carriageway   \n",
              "2019051911581                   none leaving carriageway   \n",
              "2019400862270                   none leaving carriageway   \n",
              "2019420894599                   none leaving carriageway   \n",
              "2019010162791                   none leaving carriageway   \n",
              "2019360909153                   none leaving carriageway   \n",
              "2019500856761   at least one vehicle leaving carriageway   \n",
              "\n",
              "                        hit_object_off_carriageway  \\\n",
              "accident_index                                       \n",
              "2019010225080                   none hit an object   \n",
              "2019200908684   at least one vehicle hit an object   \n",
              "2019040860897                   none hit an object   \n",
              "2019460847205                   none hit an object   \n",
              "2019051911581                   none hit an object   \n",
              "2019400862270                   none hit an object   \n",
              "2019420894599                   none hit an object   \n",
              "2019010162791                   none hit an object   \n",
              "2019360909153                   none hit an object   \n",
              "2019500856761   at least one vehicle hit an object   \n",
              "\n",
              "                                   first_point_of_impact  \\\n",
              "accident_index                                             \n",
              "2019010225080                     other points of impact   \n",
              "2019200908684   at least one vehicle with frontal impact   \n",
              "2019040860897   at least one vehicle with frontal impact   \n",
              "2019460847205   at least one vehicle with frontal impact   \n",
              "2019051911581   at least one vehicle with frontal impact   \n",
              "2019400862270                     other points of impact   \n",
              "2019420894599   at least one vehicle with frontal impact   \n",
              "2019010162791   at least one vehicle with frontal impact   \n",
              "2019360909153   at least one vehicle with frontal impact   \n",
              "2019500856761   at least one vehicle with frontal impact   \n",
              "\n",
              "                               sex_of_driver  age_of_oldest_driver  \\\n",
              "accident_index                                                       \n",
              "2019010225080                      all males                  63.0   \n",
              "2019200908684                      all males                  82.0   \n",
              "2019040860897   data missing or out of range                   NaN   \n",
              "2019460847205                male and female                   NaN   \n",
              "2019051911581                    all females                  39.0   \n",
              "2019400862270                male and female                   NaN   \n",
              "2019420894599                      all males                  40.0   \n",
              "2019010162791                      all males                  57.0   \n",
              "2019360909153                      all males                  57.0   \n",
              "2019500856761                male and female                  60.0   \n",
              "\n",
              "               accident_severity  \n",
              "accident_index                    \n",
              "2019010225080            serious  \n",
              "2019200908684              fatal  \n",
              "2019040860897            serious  \n",
              "2019460847205            serious  \n",
              "2019051911581             slight  \n",
              "2019400862270            serious  \n",
              "2019420894599              fatal  \n",
              "2019010162791             slight  \n",
              "2019360909153              fatal  \n",
              "2019500856761              fatal  "
            ],
            "text/html": [
              "\n",
              "  <div id=\"df-14a61603-27d5-4128-acb7-07fa26295b7d\">\n",
              "    <div class=\"colab-df-container\">\n",
              "      <div>\n",
              "<style scoped>\n",
              "    .dataframe tbody tr th:only-of-type {\n",
              "        vertical-align: middle;\n",
              "    }\n",
              "\n",
              "    .dataframe tbody tr th {\n",
              "        vertical-align: top;\n",
              "    }\n",
              "\n",
              "    .dataframe thead th {\n",
              "        text-align: right;\n",
              "    }\n",
              "</style>\n",
              "<table border=\"1\" class=\"dataframe\">\n",
              "  <thead>\n",
              "    <tr style=\"text-align: right;\">\n",
              "      <th></th>\n",
              "      <th>speed_limit</th>\n",
              "      <th>light_conditions</th>\n",
              "      <th>weather_conditions</th>\n",
              "      <th>road_surface_conditions</th>\n",
              "      <th>vehicle_type</th>\n",
              "      <th>junction_location</th>\n",
              "      <th>skidding_and_overturning</th>\n",
              "      <th>vehicle_leaving_carriageway</th>\n",
              "      <th>hit_object_off_carriageway</th>\n",
              "      <th>first_point_of_impact</th>\n",
              "      <th>sex_of_driver</th>\n",
              "      <th>age_of_oldest_driver</th>\n",
              "      <th>accident_severity</th>\n",
              "    </tr>\n",
              "    <tr>\n",
              "      <th>accident_index</th>\n",
              "      <th></th>\n",
              "      <th></th>\n",
              "      <th></th>\n",
              "      <th></th>\n",
              "      <th></th>\n",
              "      <th></th>\n",
              "      <th></th>\n",
              "      <th></th>\n",
              "      <th></th>\n",
              "      <th></th>\n",
              "      <th></th>\n",
              "      <th></th>\n",
              "      <th></th>\n",
              "    </tr>\n",
              "  </thead>\n",
              "  <tbody>\n",
              "    <tr>\n",
              "      <th>2019010225080</th>\n",
              "      <td>30</td>\n",
              "      <td>darkness</td>\n",
              "      <td>other</td>\n",
              "      <td>wet or damp</td>\n",
              "      <td>at least one van</td>\n",
              "      <td>at or within 20 metres of junction</td>\n",
              "      <td>no skidding or overturning</td>\n",
              "      <td>none leaving carriageway</td>\n",
              "      <td>none hit an object</td>\n",
              "      <td>other points of impact</td>\n",
              "      <td>all males</td>\n",
              "      <td>63.0</td>\n",
              "      <td>serious</td>\n",
              "    </tr>\n",
              "    <tr>\n",
              "      <th>2019200908684</th>\n",
              "      <td>30</td>\n",
              "      <td>darkness</td>\n",
              "      <td>fine</td>\n",
              "      <td>dry</td>\n",
              "      <td>only cars</td>\n",
              "      <td>at or within 20 metres of junction</td>\n",
              "      <td>no skidding or overturning</td>\n",
              "      <td>at least one vehicle leaving carriageway</td>\n",
              "      <td>at least one vehicle hit an object</td>\n",
              "      <td>at least one vehicle with frontal impact</td>\n",
              "      <td>all males</td>\n",
              "      <td>82.0</td>\n",
              "      <td>fatal</td>\n",
              "    </tr>\n",
              "    <tr>\n",
              "      <th>2019040860897</th>\n",
              "      <td>40</td>\n",
              "      <td>daylight</td>\n",
              "      <td>fine</td>\n",
              "      <td>dry</td>\n",
              "      <td>only cars</td>\n",
              "      <td>at or within 20 metres of junction</td>\n",
              "      <td>no skidding or overturning</td>\n",
              "      <td>none leaving carriageway</td>\n",
              "      <td>none hit an object</td>\n",
              "      <td>at least one vehicle with frontal impact</td>\n",
              "      <td>data missing or out of range</td>\n",
              "      <td>NaN</td>\n",
              "      <td>serious</td>\n",
              "    </tr>\n",
              "    <tr>\n",
              "      <th>2019460847205</th>\n",
              "      <td>40</td>\n",
              "      <td>daylight</td>\n",
              "      <td>fine</td>\n",
              "      <td>dry</td>\n",
              "      <td>only cars</td>\n",
              "      <td>not at or within 20 metres of junction</td>\n",
              "      <td>no skidding or overturning</td>\n",
              "      <td>none leaving carriageway</td>\n",
              "      <td>none hit an object</td>\n",
              "      <td>at least one vehicle with frontal impact</td>\n",
              "      <td>male and female</td>\n",
              "      <td>NaN</td>\n",
              "      <td>serious</td>\n",
              "    </tr>\n",
              "    <tr>\n",
              "      <th>2019051911581</th>\n",
              "      <td>30</td>\n",
              "      <td>daylight</td>\n",
              "      <td>fine</td>\n",
              "      <td>dry</td>\n",
              "      <td>only cars</td>\n",
              "      <td>not at or within 20 metres of junction</td>\n",
              "      <td>no skidding or overturning</td>\n",
              "      <td>none leaving carriageway</td>\n",
              "      <td>none hit an object</td>\n",
              "      <td>at least one vehicle with frontal impact</td>\n",
              "      <td>all females</td>\n",
              "      <td>39.0</td>\n",
              "      <td>slight</td>\n",
              "    </tr>\n",
              "    <tr>\n",
              "      <th>2019400862270</th>\n",
              "      <td>60</td>\n",
              "      <td>daylight</td>\n",
              "      <td>fine</td>\n",
              "      <td>dry</td>\n",
              "      <td>at least one biped</td>\n",
              "      <td>not at or within 20 metres of junction</td>\n",
              "      <td>no skidding or overturning</td>\n",
              "      <td>none leaving carriageway</td>\n",
              "      <td>none hit an object</td>\n",
              "      <td>other points of impact</td>\n",
              "      <td>male and female</td>\n",
              "      <td>NaN</td>\n",
              "      <td>serious</td>\n",
              "    </tr>\n",
              "    <tr>\n",
              "      <th>2019420894599</th>\n",
              "      <td>30</td>\n",
              "      <td>darkness</td>\n",
              "      <td>fine</td>\n",
              "      <td>wet or damp</td>\n",
              "      <td>only cars</td>\n",
              "      <td>not at or within 20 metres of junction</td>\n",
              "      <td>no skidding or overturning</td>\n",
              "      <td>none leaving carriageway</td>\n",
              "      <td>none hit an object</td>\n",
              "      <td>at least one vehicle with frontal impact</td>\n",
              "      <td>all males</td>\n",
              "      <td>40.0</td>\n",
              "      <td>fatal</td>\n",
              "    </tr>\n",
              "    <tr>\n",
              "      <th>2019010162791</th>\n",
              "      <td>50</td>\n",
              "      <td>daylight</td>\n",
              "      <td>fine</td>\n",
              "      <td>dry</td>\n",
              "      <td>only cars</td>\n",
              "      <td>at or within 20 metres of junction</td>\n",
              "      <td>no skidding or overturning</td>\n",
              "      <td>none leaving carriageway</td>\n",
              "      <td>none hit an object</td>\n",
              "      <td>at least one vehicle with frontal impact</td>\n",
              "      <td>all males</td>\n",
              "      <td>57.0</td>\n",
              "      <td>slight</td>\n",
              "    </tr>\n",
              "    <tr>\n",
              "      <th>2019360909153</th>\n",
              "      <td>60</td>\n",
              "      <td>daylight</td>\n",
              "      <td>fine</td>\n",
              "      <td>dry</td>\n",
              "      <td>at least one van</td>\n",
              "      <td>at or within 20 metres of junction</td>\n",
              "      <td>no skidding or overturning</td>\n",
              "      <td>none leaving carriageway</td>\n",
              "      <td>none hit an object</td>\n",
              "      <td>at least one vehicle with frontal impact</td>\n",
              "      <td>all males</td>\n",
              "      <td>57.0</td>\n",
              "      <td>fatal</td>\n",
              "    </tr>\n",
              "    <tr>\n",
              "      <th>2019500856761</th>\n",
              "      <td>60</td>\n",
              "      <td>daylight</td>\n",
              "      <td>fine</td>\n",
              "      <td>dry</td>\n",
              "      <td>only cars</td>\n",
              "      <td>not at or within 20 metres of junction</td>\n",
              "      <td>no skidding or overturning</td>\n",
              "      <td>at least one vehicle leaving carriageway</td>\n",
              "      <td>at least one vehicle hit an object</td>\n",
              "      <td>at least one vehicle with frontal impact</td>\n",
              "      <td>male and female</td>\n",
              "      <td>60.0</td>\n",
              "      <td>fatal</td>\n",
              "    </tr>\n",
              "  </tbody>\n",
              "</table>\n",
              "</div>\n",
              "      <button class=\"colab-df-convert\" onclick=\"convertToInteractive('df-14a61603-27d5-4128-acb7-07fa26295b7d')\"\n",
              "              title=\"Convert this dataframe to an interactive table.\"\n",
              "              style=\"display:none;\">\n",
              "        \n",
              "  <svg xmlns=\"http://www.w3.org/2000/svg\" height=\"24px\"viewBox=\"0 0 24 24\"\n",
              "       width=\"24px\">\n",
              "    <path d=\"M0 0h24v24H0V0z\" fill=\"none\"/>\n",
              "    <path d=\"M18.56 5.44l.94 2.06.94-2.06 2.06-.94-2.06-.94-.94-2.06-.94 2.06-2.06.94zm-11 1L8.5 8.5l.94-2.06 2.06-.94-2.06-.94L8.5 2.5l-.94 2.06-2.06.94zm10 10l.94 2.06.94-2.06 2.06-.94-2.06-.94-.94-2.06-.94 2.06-2.06.94z\"/><path d=\"M17.41 7.96l-1.37-1.37c-.4-.4-.92-.59-1.43-.59-.52 0-1.04.2-1.43.59L10.3 9.45l-7.72 7.72c-.78.78-.78 2.05 0 2.83L4 21.41c.39.39.9.59 1.41.59.51 0 1.02-.2 1.41-.59l7.78-7.78 2.81-2.81c.8-.78.8-2.07 0-2.86zM5.41 20L4 18.59l7.72-7.72 1.47 1.35L5.41 20z\"/>\n",
              "  </svg>\n",
              "      </button>\n",
              "      \n",
              "  <style>\n",
              "    .colab-df-container {\n",
              "      display:flex;\n",
              "      flex-wrap:wrap;\n",
              "      gap: 12px;\n",
              "    }\n",
              "\n",
              "    .colab-df-convert {\n",
              "      background-color: #E8F0FE;\n",
              "      border: none;\n",
              "      border-radius: 50%;\n",
              "      cursor: pointer;\n",
              "      display: none;\n",
              "      fill: #1967D2;\n",
              "      height: 32px;\n",
              "      padding: 0 0 0 0;\n",
              "      width: 32px;\n",
              "    }\n",
              "\n",
              "    .colab-df-convert:hover {\n",
              "      background-color: #E2EBFA;\n",
              "      box-shadow: 0px 1px 2px rgba(60, 64, 67, 0.3), 0px 1px 3px 1px rgba(60, 64, 67, 0.15);\n",
              "      fill: #174EA6;\n",
              "    }\n",
              "\n",
              "    [theme=dark] .colab-df-convert {\n",
              "      background-color: #3B4455;\n",
              "      fill: #D2E3FC;\n",
              "    }\n",
              "\n",
              "    [theme=dark] .colab-df-convert:hover {\n",
              "      background-color: #434B5C;\n",
              "      box-shadow: 0px 1px 3px 1px rgba(0, 0, 0, 0.15);\n",
              "      filter: drop-shadow(0px 1px 2px rgba(0, 0, 0, 0.3));\n",
              "      fill: #FFFFFF;\n",
              "    }\n",
              "  </style>\n",
              "\n",
              "      <script>\n",
              "        const buttonEl =\n",
              "          document.querySelector('#df-14a61603-27d5-4128-acb7-07fa26295b7d button.colab-df-convert');\n",
              "        buttonEl.style.display =\n",
              "          google.colab.kernel.accessAllowed ? 'block' : 'none';\n",
              "\n",
              "        async function convertToInteractive(key) {\n",
              "          const element = document.querySelector('#df-14a61603-27d5-4128-acb7-07fa26295b7d');\n",
              "          const dataTable =\n",
              "            await google.colab.kernel.invokeFunction('convertToInteractive',\n",
              "                                                     [key], {});\n",
              "          if (!dataTable) return;\n",
              "\n",
              "          const docLinkHtml = 'Like what you see? Visit the ' +\n",
              "            '<a target=\"_blank\" href=https://colab.research.google.com/notebooks/data_table.ipynb>data table notebook</a>'\n",
              "            + ' to learn more about interactive tables.';\n",
              "          element.innerHTML = '';\n",
              "          dataTable['output_type'] = 'display_data';\n",
              "          await google.colab.output.renderOutput(dataTable, element);\n",
              "          const docLink = document.createElement('div');\n",
              "          docLink.innerHTML = docLinkHtml;\n",
              "          element.appendChild(docLink);\n",
              "        }\n",
              "      </script>\n",
              "    </div>\n",
              "  </div>\n",
              "  "
            ]
          },
          "metadata": {},
          "execution_count": 110
        }
      ]
    },
    {
      "cell_type": "code",
      "source": [
        "main_dataset.sample(10)"
      ],
      "metadata": {
        "colab": {
          "base_uri": "https://localhost:8080/",
          "height": 632
        },
        "id": "FC-Ne2TTci9f",
        "outputId": "ed0bcbdb-ec78-4c29-b59e-c93bdd32e078"
      },
      "execution_count": null,
      "outputs": [
        {
          "output_type": "execute_result",
          "data": {
            "text/plain": [
              "                speed_limit light_conditions weather_conditions  \\\n",
              "accident_index                                                    \n",
              "2019521901789            20         daylight               fine   \n",
              "2019010175344            30         daylight               fine   \n",
              "2019110845981            30         daylight               fine   \n",
              "2019320190146            60         daylight               fine   \n",
              "2019010164786            30         daylight               fine   \n",
              "2019420856288            30         daylight               fine   \n",
              "201t1369p0357            30         daylight               fine   \n",
              "2019010201572            30         daylight               fine   \n",
              "201t950000623            40         daylight               fine   \n",
              "2019121901467            30         daylight               fine   \n",
              "\n",
              "               road_surface_conditions        vehicle_type  \\\n",
              "accident_index                                               \n",
              "2019521901789                      dry  at least one biped   \n",
              "2019010175344                      dry           only cars   \n",
              "2019110845981                      dry       biped and van   \n",
              "2019320190146                      dry           only cars   \n",
              "2019010164786                      dry  at least one biped   \n",
              "2019420856288                      dry    at least one van   \n",
              "201t1369p0357                      dry           only cars   \n",
              "2019010201572                      dry           only cars   \n",
              "201t950000623                      dry           only cars   \n",
              "2019121901467                      dry  at least one biped   \n",
              "\n",
              "                                     junction_location  \\\n",
              "accident_index                                           \n",
              "2019521901789   not at or within 20 metres of junction   \n",
              "2019010175344       at or within 20 metres of junction   \n",
              "2019110845981       at or within 20 metres of junction   \n",
              "2019320190146   not at or within 20 metres of junction   \n",
              "2019010164786       at or within 20 metres of junction   \n",
              "2019420856288       at or within 20 metres of junction   \n",
              "201t1369p0357   not at or within 20 metres of junction   \n",
              "2019010201572       at or within 20 metres of junction   \n",
              "201t950000623   not at or within 20 metres of junction   \n",
              "2019121901467       at or within 20 metres of junction   \n",
              "\n",
              "                                  skidding_and_overturning  \\\n",
              "accident_index                                               \n",
              "2019521901789                   no skidding or overturning   \n",
              "2019010175344                 data missing or out of range   \n",
              "2019110845981                   no skidding or overturning   \n",
              "2019320190146   at least one vehicle skidded or overturned   \n",
              "2019010164786                   no skidding or overturning   \n",
              "2019420856288                   no skidding or overturning   \n",
              "201t1369p0357                   no skidding or overturning   \n",
              "2019010201572                   no skidding or overturning   \n",
              "201t950000623                   no skidding or overturning   \n",
              "2019121901467                   no skidding or overturning   \n",
              "\n",
              "                             vehicle_leaving_carriageway  \\\n",
              "accident_index                                             \n",
              "2019521901789                   none leaving carriageway   \n",
              "2019010175344               data missing or out of range   \n",
              "2019110845981                   none leaving carriageway   \n",
              "2019320190146   at least one vehicle leaving carriageway   \n",
              "2019010164786                   none leaving carriageway   \n",
              "2019420856288                   none leaving carriageway   \n",
              "201t1369p0357                   none leaving carriageway   \n",
              "2019010201572                   none leaving carriageway   \n",
              "201t950000623                   none leaving carriageway   \n",
              "2019121901467                   none leaving carriageway   \n",
              "\n",
              "                        hit_object_off_carriageway  \\\n",
              "accident_index                                       \n",
              "2019521901789                   none hit an object   \n",
              "2019010175344         data missing or out of range   \n",
              "2019110845981                   none hit an object   \n",
              "2019320190146   at least one vehicle hit an object   \n",
              "2019010164786                   none hit an object   \n",
              "2019420856288                   none hit an object   \n",
              "201t1369p0357                   none hit an object   \n",
              "2019010201572                   none hit an object   \n",
              "201t950000623                   none hit an object   \n",
              "2019121901467                   none hit an object   \n",
              "\n",
              "                                   first_point_of_impact    sex_of_driver  \\\n",
              "accident_index                                                              \n",
              "2019521901789   at least one vehicle with frontal impact        all males   \n",
              "2019010175344               data missing or out of range  male and female   \n",
              "2019110845981   at least one vehicle with frontal impact  male and female   \n",
              "2019320190146   at least one vehicle with frontal impact      all females   \n",
              "2019010164786   at least one vehicle with frontal impact        all males   \n",
              "2019420856288   at least one vehicle with frontal impact  male and female   \n",
              "201t1369p0357                     other points of impact        all males   \n",
              "2019010201572   at least one vehicle with frontal impact        all males   \n",
              "201t950000623   at least one vehicle with frontal impact        all males   \n",
              "2019121901467                     other points of impact        all males   \n",
              "\n",
              "                age_of_oldest_driver accident_severity  \n",
              "accident_index                                          \n",
              "2019521901789                   44.0           serious  \n",
              "2019010175344                   59.0            slight  \n",
              "2019110845981                   60.0             fatal  \n",
              "2019320190146                   46.0             fatal  \n",
              "2019010164786                   27.0           serious  \n",
              "2019420856288                   44.0            slight  \n",
              "201t1369p0357                   40.0               NaN  \n",
              "2019010201572                   74.0            slight  \n",
              "201t950000623                   61.0               NaN  \n",
              "2019121901467                   34.0            slight  "
            ],
            "text/html": [
              "\n",
              "  <div id=\"df-54308a1f-c13c-4486-a485-261aeaa2fdbf\">\n",
              "    <div class=\"colab-df-container\">\n",
              "      <div>\n",
              "<style scoped>\n",
              "    .dataframe tbody tr th:only-of-type {\n",
              "        vertical-align: middle;\n",
              "    }\n",
              "\n",
              "    .dataframe tbody tr th {\n",
              "        vertical-align: top;\n",
              "    }\n",
              "\n",
              "    .dataframe thead th {\n",
              "        text-align: right;\n",
              "    }\n",
              "</style>\n",
              "<table border=\"1\" class=\"dataframe\">\n",
              "  <thead>\n",
              "    <tr style=\"text-align: right;\">\n",
              "      <th></th>\n",
              "      <th>speed_limit</th>\n",
              "      <th>light_conditions</th>\n",
              "      <th>weather_conditions</th>\n",
              "      <th>road_surface_conditions</th>\n",
              "      <th>vehicle_type</th>\n",
              "      <th>junction_location</th>\n",
              "      <th>skidding_and_overturning</th>\n",
              "      <th>vehicle_leaving_carriageway</th>\n",
              "      <th>hit_object_off_carriageway</th>\n",
              "      <th>first_point_of_impact</th>\n",
              "      <th>sex_of_driver</th>\n",
              "      <th>age_of_oldest_driver</th>\n",
              "      <th>accident_severity</th>\n",
              "    </tr>\n",
              "    <tr>\n",
              "      <th>accident_index</th>\n",
              "      <th></th>\n",
              "      <th></th>\n",
              "      <th></th>\n",
              "      <th></th>\n",
              "      <th></th>\n",
              "      <th></th>\n",
              "      <th></th>\n",
              "      <th></th>\n",
              "      <th></th>\n",
              "      <th></th>\n",
              "      <th></th>\n",
              "      <th></th>\n",
              "      <th></th>\n",
              "    </tr>\n",
              "  </thead>\n",
              "  <tbody>\n",
              "    <tr>\n",
              "      <th>2019521901789</th>\n",
              "      <td>20</td>\n",
              "      <td>daylight</td>\n",
              "      <td>fine</td>\n",
              "      <td>dry</td>\n",
              "      <td>at least one biped</td>\n",
              "      <td>not at or within 20 metres of junction</td>\n",
              "      <td>no skidding or overturning</td>\n",
              "      <td>none leaving carriageway</td>\n",
              "      <td>none hit an object</td>\n",
              "      <td>at least one vehicle with frontal impact</td>\n",
              "      <td>all males</td>\n",
              "      <td>44.0</td>\n",
              "      <td>serious</td>\n",
              "    </tr>\n",
              "    <tr>\n",
              "      <th>2019010175344</th>\n",
              "      <td>30</td>\n",
              "      <td>daylight</td>\n",
              "      <td>fine</td>\n",
              "      <td>dry</td>\n",
              "      <td>only cars</td>\n",
              "      <td>at or within 20 metres of junction</td>\n",
              "      <td>data missing or out of range</td>\n",
              "      <td>data missing or out of range</td>\n",
              "      <td>data missing or out of range</td>\n",
              "      <td>data missing or out of range</td>\n",
              "      <td>male and female</td>\n",
              "      <td>59.0</td>\n",
              "      <td>slight</td>\n",
              "    </tr>\n",
              "    <tr>\n",
              "      <th>2019110845981</th>\n",
              "      <td>30</td>\n",
              "      <td>daylight</td>\n",
              "      <td>fine</td>\n",
              "      <td>dry</td>\n",
              "      <td>biped and van</td>\n",
              "      <td>at or within 20 metres of junction</td>\n",
              "      <td>no skidding or overturning</td>\n",
              "      <td>none leaving carriageway</td>\n",
              "      <td>none hit an object</td>\n",
              "      <td>at least one vehicle with frontal impact</td>\n",
              "      <td>male and female</td>\n",
              "      <td>60.0</td>\n",
              "      <td>fatal</td>\n",
              "    </tr>\n",
              "    <tr>\n",
              "      <th>2019320190146</th>\n",
              "      <td>60</td>\n",
              "      <td>daylight</td>\n",
              "      <td>fine</td>\n",
              "      <td>dry</td>\n",
              "      <td>only cars</td>\n",
              "      <td>not at or within 20 metres of junction</td>\n",
              "      <td>at least one vehicle skidded or overturned</td>\n",
              "      <td>at least one vehicle leaving carriageway</td>\n",
              "      <td>at least one vehicle hit an object</td>\n",
              "      <td>at least one vehicle with frontal impact</td>\n",
              "      <td>all females</td>\n",
              "      <td>46.0</td>\n",
              "      <td>fatal</td>\n",
              "    </tr>\n",
              "    <tr>\n",
              "      <th>2019010164786</th>\n",
              "      <td>30</td>\n",
              "      <td>daylight</td>\n",
              "      <td>fine</td>\n",
              "      <td>dry</td>\n",
              "      <td>at least one biped</td>\n",
              "      <td>at or within 20 metres of junction</td>\n",
              "      <td>no skidding or overturning</td>\n",
              "      <td>none leaving carriageway</td>\n",
              "      <td>none hit an object</td>\n",
              "      <td>at least one vehicle with frontal impact</td>\n",
              "      <td>all males</td>\n",
              "      <td>27.0</td>\n",
              "      <td>serious</td>\n",
              "    </tr>\n",
              "    <tr>\n",
              "      <th>2019420856288</th>\n",
              "      <td>30</td>\n",
              "      <td>daylight</td>\n",
              "      <td>fine</td>\n",
              "      <td>dry</td>\n",
              "      <td>at least one van</td>\n",
              "      <td>at or within 20 metres of junction</td>\n",
              "      <td>no skidding or overturning</td>\n",
              "      <td>none leaving carriageway</td>\n",
              "      <td>none hit an object</td>\n",
              "      <td>at least one vehicle with frontal impact</td>\n",
              "      <td>male and female</td>\n",
              "      <td>44.0</td>\n",
              "      <td>slight</td>\n",
              "    </tr>\n",
              "    <tr>\n",
              "      <th>201t1369p0357</th>\n",
              "      <td>30</td>\n",
              "      <td>daylight</td>\n",
              "      <td>fine</td>\n",
              "      <td>dry</td>\n",
              "      <td>only cars</td>\n",
              "      <td>not at or within 20 metres of junction</td>\n",
              "      <td>no skidding or overturning</td>\n",
              "      <td>none leaving carriageway</td>\n",
              "      <td>none hit an object</td>\n",
              "      <td>other points of impact</td>\n",
              "      <td>all males</td>\n",
              "      <td>40.0</td>\n",
              "      <td>NaN</td>\n",
              "    </tr>\n",
              "    <tr>\n",
              "      <th>2019010201572</th>\n",
              "      <td>30</td>\n",
              "      <td>daylight</td>\n",
              "      <td>fine</td>\n",
              "      <td>dry</td>\n",
              "      <td>only cars</td>\n",
              "      <td>at or within 20 metres of junction</td>\n",
              "      <td>no skidding or overturning</td>\n",
              "      <td>none leaving carriageway</td>\n",
              "      <td>none hit an object</td>\n",
              "      <td>at least one vehicle with frontal impact</td>\n",
              "      <td>all males</td>\n",
              "      <td>74.0</td>\n",
              "      <td>slight</td>\n",
              "    </tr>\n",
              "    <tr>\n",
              "      <th>201t950000623</th>\n",
              "      <td>40</td>\n",
              "      <td>daylight</td>\n",
              "      <td>fine</td>\n",
              "      <td>dry</td>\n",
              "      <td>only cars</td>\n",
              "      <td>not at or within 20 metres of junction</td>\n",
              "      <td>no skidding or overturning</td>\n",
              "      <td>none leaving carriageway</td>\n",
              "      <td>none hit an object</td>\n",
              "      <td>at least one vehicle with frontal impact</td>\n",
              "      <td>all males</td>\n",
              "      <td>61.0</td>\n",
              "      <td>NaN</td>\n",
              "    </tr>\n",
              "    <tr>\n",
              "      <th>2019121901467</th>\n",
              "      <td>30</td>\n",
              "      <td>daylight</td>\n",
              "      <td>fine</td>\n",
              "      <td>dry</td>\n",
              "      <td>at least one biped</td>\n",
              "      <td>at or within 20 metres of junction</td>\n",
              "      <td>no skidding or overturning</td>\n",
              "      <td>none leaving carriageway</td>\n",
              "      <td>none hit an object</td>\n",
              "      <td>other points of impact</td>\n",
              "      <td>all males</td>\n",
              "      <td>34.0</td>\n",
              "      <td>slight</td>\n",
              "    </tr>\n",
              "  </tbody>\n",
              "</table>\n",
              "</div>\n",
              "      <button class=\"colab-df-convert\" onclick=\"convertToInteractive('df-54308a1f-c13c-4486-a485-261aeaa2fdbf')\"\n",
              "              title=\"Convert this dataframe to an interactive table.\"\n",
              "              style=\"display:none;\">\n",
              "        \n",
              "  <svg xmlns=\"http://www.w3.org/2000/svg\" height=\"24px\"viewBox=\"0 0 24 24\"\n",
              "       width=\"24px\">\n",
              "    <path d=\"M0 0h24v24H0V0z\" fill=\"none\"/>\n",
              "    <path d=\"M18.56 5.44l.94 2.06.94-2.06 2.06-.94-2.06-.94-.94-2.06-.94 2.06-2.06.94zm-11 1L8.5 8.5l.94-2.06 2.06-.94-2.06-.94L8.5 2.5l-.94 2.06-2.06.94zm10 10l.94 2.06.94-2.06 2.06-.94-2.06-.94-.94-2.06-.94 2.06-2.06.94z\"/><path d=\"M17.41 7.96l-1.37-1.37c-.4-.4-.92-.59-1.43-.59-.52 0-1.04.2-1.43.59L10.3 9.45l-7.72 7.72c-.78.78-.78 2.05 0 2.83L4 21.41c.39.39.9.59 1.41.59.51 0 1.02-.2 1.41-.59l7.78-7.78 2.81-2.81c.8-.78.8-2.07 0-2.86zM5.41 20L4 18.59l7.72-7.72 1.47 1.35L5.41 20z\"/>\n",
              "  </svg>\n",
              "      </button>\n",
              "      \n",
              "  <style>\n",
              "    .colab-df-container {\n",
              "      display:flex;\n",
              "      flex-wrap:wrap;\n",
              "      gap: 12px;\n",
              "    }\n",
              "\n",
              "    .colab-df-convert {\n",
              "      background-color: #E8F0FE;\n",
              "      border: none;\n",
              "      border-radius: 50%;\n",
              "      cursor: pointer;\n",
              "      display: none;\n",
              "      fill: #1967D2;\n",
              "      height: 32px;\n",
              "      padding: 0 0 0 0;\n",
              "      width: 32px;\n",
              "    }\n",
              "\n",
              "    .colab-df-convert:hover {\n",
              "      background-color: #E2EBFA;\n",
              "      box-shadow: 0px 1px 2px rgba(60, 64, 67, 0.3), 0px 1px 3px 1px rgba(60, 64, 67, 0.15);\n",
              "      fill: #174EA6;\n",
              "    }\n",
              "\n",
              "    [theme=dark] .colab-df-convert {\n",
              "      background-color: #3B4455;\n",
              "      fill: #D2E3FC;\n",
              "    }\n",
              "\n",
              "    [theme=dark] .colab-df-convert:hover {\n",
              "      background-color: #434B5C;\n",
              "      box-shadow: 0px 1px 3px 1px rgba(0, 0, 0, 0.15);\n",
              "      filter: drop-shadow(0px 1px 2px rgba(0, 0, 0, 0.3));\n",
              "      fill: #FFFFFF;\n",
              "    }\n",
              "  </style>\n",
              "\n",
              "      <script>\n",
              "        const buttonEl =\n",
              "          document.querySelector('#df-54308a1f-c13c-4486-a485-261aeaa2fdbf button.colab-df-convert');\n",
              "        buttonEl.style.display =\n",
              "          google.colab.kernel.accessAllowed ? 'block' : 'none';\n",
              "\n",
              "        async function convertToInteractive(key) {\n",
              "          const element = document.querySelector('#df-54308a1f-c13c-4486-a485-261aeaa2fdbf');\n",
              "          const dataTable =\n",
              "            await google.colab.kernel.invokeFunction('convertToInteractive',\n",
              "                                                     [key], {});\n",
              "          if (!dataTable) return;\n",
              "\n",
              "          const docLinkHtml = 'Like what you see? Visit the ' +\n",
              "            '<a target=\"_blank\" href=https://colab.research.google.com/notebooks/data_table.ipynb>data table notebook</a>'\n",
              "            + ' to learn more about interactive tables.';\n",
              "          element.innerHTML = '';\n",
              "          dataTable['output_type'] = 'display_data';\n",
              "          await google.colab.output.renderOutput(dataTable, element);\n",
              "          const docLink = document.createElement('div');\n",
              "          docLink.innerHTML = docLinkHtml;\n",
              "          element.appendChild(docLink);\n",
              "        }\n",
              "      </script>\n",
              "    </div>\n",
              "  </div>\n",
              "  "
            ]
          },
          "metadata": {},
          "execution_count": 111
        }
      ]
    },
    {
      "cell_type": "code",
      "source": [
        "main_dataset.describe()"
      ],
      "metadata": {
        "colab": {
          "base_uri": "https://localhost:8080/",
          "height": 300
        },
        "id": "En9xmPsjczSf",
        "outputId": "9f86d03a-fbce-49c9-ec74-88df413c848c"
      },
      "execution_count": null,
      "outputs": [
        {
          "output_type": "execute_result",
          "data": {
            "text/plain": [
              "        speed_limit  age_of_oldest_driver\n",
              "count  31647.000000          25197.000000\n",
              "mean      36.572029             47.254038\n",
              "std       13.837362             16.779656\n",
              "min       -1.000000              6.000000\n",
              "25%       30.000000             34.000000\n",
              "50%       30.000000             47.000000\n",
              "75%       40.000000             59.000000\n",
              "max       70.000000            101.000000"
            ],
            "text/html": [
              "\n",
              "  <div id=\"df-faca2237-356c-4c1d-acd3-b016da46d7e4\">\n",
              "    <div class=\"colab-df-container\">\n",
              "      <div>\n",
              "<style scoped>\n",
              "    .dataframe tbody tr th:only-of-type {\n",
              "        vertical-align: middle;\n",
              "    }\n",
              "\n",
              "    .dataframe tbody tr th {\n",
              "        vertical-align: top;\n",
              "    }\n",
              "\n",
              "    .dataframe thead th {\n",
              "        text-align: right;\n",
              "    }\n",
              "</style>\n",
              "<table border=\"1\" class=\"dataframe\">\n",
              "  <thead>\n",
              "    <tr style=\"text-align: right;\">\n",
              "      <th></th>\n",
              "      <th>speed_limit</th>\n",
              "      <th>age_of_oldest_driver</th>\n",
              "    </tr>\n",
              "  </thead>\n",
              "  <tbody>\n",
              "    <tr>\n",
              "      <th>count</th>\n",
              "      <td>31647.000000</td>\n",
              "      <td>25197.000000</td>\n",
              "    </tr>\n",
              "    <tr>\n",
              "      <th>mean</th>\n",
              "      <td>36.572029</td>\n",
              "      <td>47.254038</td>\n",
              "    </tr>\n",
              "    <tr>\n",
              "      <th>std</th>\n",
              "      <td>13.837362</td>\n",
              "      <td>16.779656</td>\n",
              "    </tr>\n",
              "    <tr>\n",
              "      <th>min</th>\n",
              "      <td>-1.000000</td>\n",
              "      <td>6.000000</td>\n",
              "    </tr>\n",
              "    <tr>\n",
              "      <th>25%</th>\n",
              "      <td>30.000000</td>\n",
              "      <td>34.000000</td>\n",
              "    </tr>\n",
              "    <tr>\n",
              "      <th>50%</th>\n",
              "      <td>30.000000</td>\n",
              "      <td>47.000000</td>\n",
              "    </tr>\n",
              "    <tr>\n",
              "      <th>75%</th>\n",
              "      <td>40.000000</td>\n",
              "      <td>59.000000</td>\n",
              "    </tr>\n",
              "    <tr>\n",
              "      <th>max</th>\n",
              "      <td>70.000000</td>\n",
              "      <td>101.000000</td>\n",
              "    </tr>\n",
              "  </tbody>\n",
              "</table>\n",
              "</div>\n",
              "      <button class=\"colab-df-convert\" onclick=\"convertToInteractive('df-faca2237-356c-4c1d-acd3-b016da46d7e4')\"\n",
              "              title=\"Convert this dataframe to an interactive table.\"\n",
              "              style=\"display:none;\">\n",
              "        \n",
              "  <svg xmlns=\"http://www.w3.org/2000/svg\" height=\"24px\"viewBox=\"0 0 24 24\"\n",
              "       width=\"24px\">\n",
              "    <path d=\"M0 0h24v24H0V0z\" fill=\"none\"/>\n",
              "    <path d=\"M18.56 5.44l.94 2.06.94-2.06 2.06-.94-2.06-.94-.94-2.06-.94 2.06-2.06.94zm-11 1L8.5 8.5l.94-2.06 2.06-.94-2.06-.94L8.5 2.5l-.94 2.06-2.06.94zm10 10l.94 2.06.94-2.06 2.06-.94-2.06-.94-.94-2.06-.94 2.06-2.06.94z\"/><path d=\"M17.41 7.96l-1.37-1.37c-.4-.4-.92-.59-1.43-.59-.52 0-1.04.2-1.43.59L10.3 9.45l-7.72 7.72c-.78.78-.78 2.05 0 2.83L4 21.41c.39.39.9.59 1.41.59.51 0 1.02-.2 1.41-.59l7.78-7.78 2.81-2.81c.8-.78.8-2.07 0-2.86zM5.41 20L4 18.59l7.72-7.72 1.47 1.35L5.41 20z\"/>\n",
              "  </svg>\n",
              "      </button>\n",
              "      \n",
              "  <style>\n",
              "    .colab-df-container {\n",
              "      display:flex;\n",
              "      flex-wrap:wrap;\n",
              "      gap: 12px;\n",
              "    }\n",
              "\n",
              "    .colab-df-convert {\n",
              "      background-color: #E8F0FE;\n",
              "      border: none;\n",
              "      border-radius: 50%;\n",
              "      cursor: pointer;\n",
              "      display: none;\n",
              "      fill: #1967D2;\n",
              "      height: 32px;\n",
              "      padding: 0 0 0 0;\n",
              "      width: 32px;\n",
              "    }\n",
              "\n",
              "    .colab-df-convert:hover {\n",
              "      background-color: #E2EBFA;\n",
              "      box-shadow: 0px 1px 2px rgba(60, 64, 67, 0.3), 0px 1px 3px 1px rgba(60, 64, 67, 0.15);\n",
              "      fill: #174EA6;\n",
              "    }\n",
              "\n",
              "    [theme=dark] .colab-df-convert {\n",
              "      background-color: #3B4455;\n",
              "      fill: #D2E3FC;\n",
              "    }\n",
              "\n",
              "    [theme=dark] .colab-df-convert:hover {\n",
              "      background-color: #434B5C;\n",
              "      box-shadow: 0px 1px 3px 1px rgba(0, 0, 0, 0.15);\n",
              "      filter: drop-shadow(0px 1px 2px rgba(0, 0, 0, 0.3));\n",
              "      fill: #FFFFFF;\n",
              "    }\n",
              "  </style>\n",
              "\n",
              "      <script>\n",
              "        const buttonEl =\n",
              "          document.querySelector('#df-faca2237-356c-4c1d-acd3-b016da46d7e4 button.colab-df-convert');\n",
              "        buttonEl.style.display =\n",
              "          google.colab.kernel.accessAllowed ? 'block' : 'none';\n",
              "\n",
              "        async function convertToInteractive(key) {\n",
              "          const element = document.querySelector('#df-faca2237-356c-4c1d-acd3-b016da46d7e4');\n",
              "          const dataTable =\n",
              "            await google.colab.kernel.invokeFunction('convertToInteractive',\n",
              "                                                     [key], {});\n",
              "          if (!dataTable) return;\n",
              "\n",
              "          const docLinkHtml = 'Like what you see? Visit the ' +\n",
              "            '<a target=\"_blank\" href=https://colab.research.google.com/notebooks/data_table.ipynb>data table notebook</a>'\n",
              "            + ' to learn more about interactive tables.';\n",
              "          element.innerHTML = '';\n",
              "          dataTable['output_type'] = 'display_data';\n",
              "          await google.colab.output.renderOutput(dataTable, element);\n",
              "          const docLink = document.createElement('div');\n",
              "          docLink.innerHTML = docLinkHtml;\n",
              "          element.appendChild(docLink);\n",
              "        }\n",
              "      </script>\n",
              "    </div>\n",
              "  </div>\n",
              "  "
            ]
          },
          "metadata": {},
          "execution_count": 112
        }
      ]
    },
    {
      "cell_type": "markdown",
      "source": [
        "Minimum speed limit shows as a minus value, therefore replacing it with NaN"
      ],
      "metadata": {
        "id": "wvSkrTAvk7md"
      }
    },
    {
      "cell_type": "code",
      "source": [
        "main_dataset.loc[main_dataset.speed_limit<0,'speed_limit'] = np.nan"
      ],
      "metadata": {
        "id": "tkU6zcXvkbD9"
      },
      "execution_count": null,
      "outputs": []
    },
    {
      "cell_type": "markdown",
      "source": [
        "Minimum value for age of the oldest driver is shown as 6 years old and has been replaced with Nan as the accepted age is equal or more than 16"
      ],
      "metadata": {
        "id": "JBN6s82el3eq"
      }
    },
    {
      "cell_type": "code",
      "source": [
        "main_dataset.loc[main_dataset.age_of_oldest_driver<16,'age_of_oldest_driver'] = np.nan"
      ],
      "metadata": {
        "id": "uXBg83PglVeo"
      },
      "execution_count": null,
      "outputs": []
    },
    {
      "cell_type": "markdown",
      "source": [
        "Defining categorical features excluding accident_index column"
      ],
      "metadata": {
        "id": "pzzfzqQ4mil8"
      }
    },
    {
      "cell_type": "code",
      "source": [
        "Categorical_columns= ['light_conditions', 'weather_conditions', 'road_surface_conditions','vehicle_type', 'junction_location','skidding_and_overturning','vehicle_leaving_carriageway','hit_object_off_carriageway','first_point_of_impact','sex_of_driver','accident_severity']"
      ],
      "metadata": {
        "id": "rFgpIPRdclCY"
      },
      "execution_count": null,
      "outputs": []
    },
    {
      "cell_type": "code",
      "source": [
        "for col in Categorical_columns:\n",
        "  print(f\"Categories and number of occurrences for '{col}'\")\n",
        "  pretty_print_df(main_dataset[col].value_counts())\n",
        "  print()"
      ],
      "metadata": {
        "colab": {
          "base_uri": "https://localhost:8080/",
          "height": 1000
        },
        "id": "G010gbZeZcT1",
        "outputId": "1453cb6e-42f7-46a5-8129-7744c68b8e50"
      },
      "execution_count": null,
      "outputs": [
        {
          "output_type": "stream",
          "name": "stdout",
          "text": [
            "Categories and number of occurrences for 'light_conditions'\n"
          ]
        },
        {
          "output_type": "display_data",
          "data": {
            "text/plain": [
              "<IPython.core.display.HTML object>"
            ],
            "text/html": [
              "<table border=\"1\" class=\"dataframe\">\n",
              "  <thead>\n",
              "    <tr style=\"text-align: right;\">\n",
              "      <th></th>\n",
              "      <th>light_conditions</th>\n",
              "    </tr>\n",
              "  </thead>\n",
              "  <tbody>\n",
              "    <tr>\n",
              "      <th>daylight</th>\n",
              "      <td>22210</td>\n",
              "    </tr>\n",
              "    <tr>\n",
              "      <th>darkness</th>\n",
              "      <td>9437</td>\n",
              "    </tr>\n",
              "  </tbody>\n",
              "</table>"
            ]
          },
          "metadata": {}
        },
        {
          "output_type": "stream",
          "name": "stdout",
          "text": [
            "\n",
            "Categories and number of occurrences for 'weather_conditions'\n"
          ]
        },
        {
          "output_type": "display_data",
          "data": {
            "text/plain": [
              "<IPython.core.display.HTML object>"
            ],
            "text/html": [
              "<table border=\"1\" class=\"dataframe\">\n",
              "  <thead>\n",
              "    <tr style=\"text-align: right;\">\n",
              "      <th></th>\n",
              "      <th>weather_conditions</th>\n",
              "    </tr>\n",
              "  </thead>\n",
              "  <tbody>\n",
              "    <tr>\n",
              "      <th>fine</th>\n",
              "      <td>25152</td>\n",
              "    </tr>\n",
              "    <tr>\n",
              "      <th>other</th>\n",
              "      <td>5407</td>\n",
              "    </tr>\n",
              "    <tr>\n",
              "      <th>data missing or out of range</th>\n",
              "      <td>970</td>\n",
              "    </tr>\n",
              "    <tr>\n",
              "      <th>fog or mist</th>\n",
              "      <td>118</td>\n",
              "    </tr>\n",
              "  </tbody>\n",
              "</table>"
            ]
          },
          "metadata": {}
        },
        {
          "output_type": "stream",
          "name": "stdout",
          "text": [
            "\n",
            "Categories and number of occurrences for 'road_surface_conditions'\n"
          ]
        },
        {
          "output_type": "display_data",
          "data": {
            "text/plain": [
              "<IPython.core.display.HTML object>"
            ],
            "text/html": [
              "<table border=\"1\" class=\"dataframe\">\n",
              "  <thead>\n",
              "    <tr style=\"text-align: right;\">\n",
              "      <th></th>\n",
              "      <th>road_surface_conditions</th>\n",
              "    </tr>\n",
              "  </thead>\n",
              "  <tbody>\n",
              "    <tr>\n",
              "      <th>dry</th>\n",
              "      <td>22092</td>\n",
              "    </tr>\n",
              "    <tr>\n",
              "      <th>wet or damp</th>\n",
              "      <td>8761</td>\n",
              "    </tr>\n",
              "    <tr>\n",
              "      <th>other</th>\n",
              "      <td>374</td>\n",
              "    </tr>\n",
              "    <tr>\n",
              "      <th>data missing or out of range</th>\n",
              "      <td>365</td>\n",
              "    </tr>\n",
              "    <tr>\n",
              "      <th>flood over 3cm. deep</th>\n",
              "      <td>55</td>\n",
              "    </tr>\n",
              "  </tbody>\n",
              "</table>"
            ]
          },
          "metadata": {}
        },
        {
          "output_type": "stream",
          "name": "stdout",
          "text": [
            "\n",
            "Categories and number of occurrences for 'vehicle_type'\n"
          ]
        },
        {
          "output_type": "display_data",
          "data": {
            "text/plain": [
              "<IPython.core.display.HTML object>"
            ],
            "text/html": [
              "<table border=\"1\" class=\"dataframe\">\n",
              "  <thead>\n",
              "    <tr style=\"text-align: right;\">\n",
              "      <th></th>\n",
              "      <th>vehicle_type</th>\n",
              "    </tr>\n",
              "  </thead>\n",
              "  <tbody>\n",
              "    <tr>\n",
              "      <th>only cars</th>\n",
              "      <td>17487</td>\n",
              "    </tr>\n",
              "    <tr>\n",
              "      <th>at least one biped</th>\n",
              "      <td>8662</td>\n",
              "    </tr>\n",
              "    <tr>\n",
              "      <th>at least one van</th>\n",
              "      <td>4040</td>\n",
              "    </tr>\n",
              "    <tr>\n",
              "      <th>biped and van</th>\n",
              "      <td>1000</td>\n",
              "    </tr>\n",
              "    <tr>\n",
              "      <th>other</th>\n",
              "      <td>395</td>\n",
              "    </tr>\n",
              "    <tr>\n",
              "      <th>data missing or out of range</th>\n",
              "      <td>63</td>\n",
              "    </tr>\n",
              "  </tbody>\n",
              "</table>"
            ]
          },
          "metadata": {}
        },
        {
          "output_type": "stream",
          "name": "stdout",
          "text": [
            "\n",
            "Categories and number of occurrences for 'junction_location'\n"
          ]
        },
        {
          "output_type": "display_data",
          "data": {
            "text/plain": [
              "<IPython.core.display.HTML object>"
            ],
            "text/html": [
              "<table border=\"1\" class=\"dataframe\">\n",
              "  <thead>\n",
              "    <tr style=\"text-align: right;\">\n",
              "      <th></th>\n",
              "      <th>junction_location</th>\n",
              "    </tr>\n",
              "  </thead>\n",
              "  <tbody>\n",
              "    <tr>\n",
              "      <th>at or within 20 metres of junction</th>\n",
              "      <td>17204</td>\n",
              "    </tr>\n",
              "    <tr>\n",
              "      <th>not at or within 20 metres of junction</th>\n",
              "      <td>12973</td>\n",
              "    </tr>\n",
              "    <tr>\n",
              "      <th>data missing or out of range</th>\n",
              "      <td>1470</td>\n",
              "    </tr>\n",
              "  </tbody>\n",
              "</table>"
            ]
          },
          "metadata": {}
        },
        {
          "output_type": "stream",
          "name": "stdout",
          "text": [
            "\n",
            "Categories and number of occurrences for 'skidding_and_overturning'\n"
          ]
        },
        {
          "output_type": "display_data",
          "data": {
            "text/plain": [
              "<IPython.core.display.HTML object>"
            ],
            "text/html": [
              "<table border=\"1\" class=\"dataframe\">\n",
              "  <thead>\n",
              "    <tr style=\"text-align: right;\">\n",
              "      <th></th>\n",
              "      <th>skidding_and_overturning</th>\n",
              "    </tr>\n",
              "  </thead>\n",
              "  <tbody>\n",
              "    <tr>\n",
              "      <th>no skidding or overturning</th>\n",
              "      <td>24387</td>\n",
              "    </tr>\n",
              "    <tr>\n",
              "      <th>at least one vehicle skidded or overturned</th>\n",
              "      <td>5226</td>\n",
              "    </tr>\n",
              "    <tr>\n",
              "      <th>data missing or out of range</th>\n",
              "      <td>2034</td>\n",
              "    </tr>\n",
              "  </tbody>\n",
              "</table>"
            ]
          },
          "metadata": {}
        },
        {
          "output_type": "stream",
          "name": "stdout",
          "text": [
            "\n",
            "Categories and number of occurrences for 'vehicle_leaving_carriageway'\n"
          ]
        },
        {
          "output_type": "display_data",
          "data": {
            "text/plain": [
              "<IPython.core.display.HTML object>"
            ],
            "text/html": [
              "<table border=\"1\" class=\"dataframe\">\n",
              "  <thead>\n",
              "    <tr style=\"text-align: right;\">\n",
              "      <th></th>\n",
              "      <th>vehicle_leaving_carriageway</th>\n",
              "    </tr>\n",
              "  </thead>\n",
              "  <tbody>\n",
              "    <tr>\n",
              "      <th>none leaving carriageway</th>\n",
              "      <td>24019</td>\n",
              "    </tr>\n",
              "    <tr>\n",
              "      <th>at least one vehicle leaving carriageway</th>\n",
              "      <td>5661</td>\n",
              "    </tr>\n",
              "    <tr>\n",
              "      <th>data missing or out of range</th>\n",
              "      <td>1967</td>\n",
              "    </tr>\n",
              "  </tbody>\n",
              "</table>"
            ]
          },
          "metadata": {}
        },
        {
          "output_type": "stream",
          "name": "stdout",
          "text": [
            "\n",
            "Categories and number of occurrences for 'hit_object_off_carriageway'\n"
          ]
        },
        {
          "output_type": "display_data",
          "data": {
            "text/plain": [
              "<IPython.core.display.HTML object>"
            ],
            "text/html": [
              "<table border=\"1\" class=\"dataframe\">\n",
              "  <thead>\n",
              "    <tr style=\"text-align: right;\">\n",
              "      <th></th>\n",
              "      <th>hit_object_off_carriageway</th>\n",
              "    </tr>\n",
              "  </thead>\n",
              "  <tbody>\n",
              "    <tr>\n",
              "      <th>none hit an object</th>\n",
              "      <td>26129</td>\n",
              "    </tr>\n",
              "    <tr>\n",
              "      <th>at least one vehicle hit an object</th>\n",
              "      <td>3655</td>\n",
              "    </tr>\n",
              "    <tr>\n",
              "      <th>data missing or out of range</th>\n",
              "      <td>1863</td>\n",
              "    </tr>\n",
              "  </tbody>\n",
              "</table>"
            ]
          },
          "metadata": {}
        },
        {
          "output_type": "stream",
          "name": "stdout",
          "text": [
            "\n",
            "Categories and number of occurrences for 'first_point_of_impact'\n"
          ]
        },
        {
          "output_type": "display_data",
          "data": {
            "text/plain": [
              "<IPython.core.display.HTML object>"
            ],
            "text/html": [
              "<table border=\"1\" class=\"dataframe\">\n",
              "  <thead>\n",
              "    <tr style=\"text-align: right;\">\n",
              "      <th></th>\n",
              "      <th>first_point_of_impact</th>\n",
              "    </tr>\n",
              "  </thead>\n",
              "  <tbody>\n",
              "    <tr>\n",
              "      <th>at least one vehicle with frontal impact</th>\n",
              "      <td>23002</td>\n",
              "    </tr>\n",
              "    <tr>\n",
              "      <th>other points of impact</th>\n",
              "      <td>6008</td>\n",
              "    </tr>\n",
              "    <tr>\n",
              "      <th>no impact</th>\n",
              "      <td>1333</td>\n",
              "    </tr>\n",
              "    <tr>\n",
              "      <th>data missing or out of range</th>\n",
              "      <td>1304</td>\n",
              "    </tr>\n",
              "  </tbody>\n",
              "</table>"
            ]
          },
          "metadata": {}
        },
        {
          "output_type": "stream",
          "name": "stdout",
          "text": [
            "\n",
            "Categories and number of occurrences for 'sex_of_driver'\n"
          ]
        },
        {
          "output_type": "display_data",
          "data": {
            "text/plain": [
              "<IPython.core.display.HTML object>"
            ],
            "text/html": [
              "<table border=\"1\" class=\"dataframe\">\n",
              "  <thead>\n",
              "    <tr style=\"text-align: right;\">\n",
              "      <th></th>\n",
              "      <th>sex_of_driver</th>\n",
              "    </tr>\n",
              "  </thead>\n",
              "  <tbody>\n",
              "    <tr>\n",
              "      <th>all males</th>\n",
              "      <td>15494</td>\n",
              "    </tr>\n",
              "    <tr>\n",
              "      <th>male and female</th>\n",
              "      <td>7015</td>\n",
              "    </tr>\n",
              "    <tr>\n",
              "      <th>data missing or out of range</th>\n",
              "      <td>5122</td>\n",
              "    </tr>\n",
              "    <tr>\n",
              "      <th>all females</th>\n",
              "      <td>4016</td>\n",
              "    </tr>\n",
              "  </tbody>\n",
              "</table>"
            ]
          },
          "metadata": {}
        },
        {
          "output_type": "stream",
          "name": "stdout",
          "text": [
            "\n",
            "Categories and number of occurrences for 'accident_severity'\n"
          ]
        },
        {
          "output_type": "display_data",
          "data": {
            "text/plain": [
              "<IPython.core.display.HTML object>"
            ],
            "text/html": [
              "<table border=\"1\" class=\"dataframe\">\n",
              "  <thead>\n",
              "    <tr style=\"text-align: right;\">\n",
              "      <th></th>\n",
              "      <th>accident_severity</th>\n",
              "    </tr>\n",
              "  </thead>\n",
              "  <tbody>\n",
              "    <tr>\n",
              "      <th>slight</th>\n",
              "      <td>12672</td>\n",
              "    </tr>\n",
              "    <tr>\n",
              "      <th>serious</th>\n",
              "      <td>11592</td>\n",
              "    </tr>\n",
              "    <tr>\n",
              "      <th>fatal</th>\n",
              "      <td>6159</td>\n",
              "    </tr>\n",
              "    <tr>\n",
              "      <th>Serious</th>\n",
              "      <td>25</td>\n",
              "    </tr>\n",
              "    <tr>\n",
              "      <th>Slight</th>\n",
              "      <td>19</td>\n",
              "    </tr>\n",
              "    <tr>\n",
              "      <th>Fatal</th>\n",
              "      <td>8</td>\n",
              "    </tr>\n",
              "  </tbody>\n",
              "</table>"
            ]
          },
          "metadata": {}
        },
        {
          "output_type": "stream",
          "name": "stdout",
          "text": [
            "\n"
          ]
        }
      ]
    },
    {
      "cell_type": "code",
      "source": [
        "main_dataset.loc[main_dataset.accident_severity=='Fatal','accident_severity'] = 'fatal'"
      ],
      "metadata": {
        "id": "E8jieEKcaRHO"
      },
      "execution_count": null,
      "outputs": []
    },
    {
      "cell_type": "code",
      "source": [
        "main_dataset.loc[main_dataset.accident_severity=='Serious','accident_severity'] = 'serious'"
      ],
      "metadata": {
        "id": "expSAwW5a4TC"
      },
      "execution_count": null,
      "outputs": []
    },
    {
      "cell_type": "code",
      "source": [
        "main_dataset.loc[main_dataset.accident_severity=='Slight','accident_severity'] = 'slight'"
      ],
      "metadata": {
        "id": "-vsJUfHKbCrl"
      },
      "execution_count": null,
      "outputs": []
    },
    {
      "cell_type": "code",
      "source": [
        "main_dataset.loc[main_dataset.sex_of_driver=='data missing or out of range','sex_of_driver'] = 'all males'"
      ],
      "metadata": {
        "id": "kgNii5uRbj_q"
      },
      "execution_count": null,
      "outputs": []
    },
    {
      "cell_type": "code",
      "source": [
        "main_dataset.loc[main_dataset.first_point_of_impact=='data missing or out of range','first_point_of_impact'] = 'at least one vehicle with frontal impact'"
      ],
      "metadata": {
        "id": "Ae3dDoh7cBZf"
      },
      "execution_count": null,
      "outputs": []
    },
    {
      "cell_type": "code",
      "source": [
        "main_dataset.loc[main_dataset.hit_object_off_carriageway=='data missing or out of range','hit_object_off_carriageway'] = 'none hit an object'"
      ],
      "metadata": {
        "id": "tWZ8ii-dcRcV"
      },
      "execution_count": null,
      "outputs": []
    },
    {
      "cell_type": "code",
      "source": [
        "main_dataset.loc[main_dataset.vehicle_leaving_carriageway=='data missing or out of range','vehicle_leaving_carriageway'] = 'none leaving carriageway'"
      ],
      "metadata": {
        "id": "XSej-ibqcRHE"
      },
      "execution_count": null,
      "outputs": []
    },
    {
      "cell_type": "code",
      "source": [
        "main_dataset.loc[main_dataset.skidding_and_overturning=='data missing or out of range','skidding_and_overturning'] = 'no skidding or overturning'"
      ],
      "metadata": {
        "id": "hSCnXVI6c98s"
      },
      "execution_count": null,
      "outputs": []
    },
    {
      "cell_type": "code",
      "source": [
        "main_dataset.loc[main_dataset.junction_location=='data missing or out of range','junction_location'] = 'at or within 20 metres of junction'"
      ],
      "metadata": {
        "id": "wqnxa0Q_c9sE"
      },
      "execution_count": null,
      "outputs": []
    },
    {
      "cell_type": "code",
      "source": [
        "main_dataset.loc[main_dataset.vehicle_type=='data missing or out of range','vehicle_type'] = 'only cars'"
      ],
      "metadata": {
        "id": "UDqyfL9Ldc9G"
      },
      "execution_count": null,
      "outputs": []
    },
    {
      "cell_type": "code",
      "source": [
        "main_dataset.loc[main_dataset.vehicle_type=='other','vehicle_type'] = 'other vehicle type'"
      ],
      "metadata": {
        "id": "9RIk2-tU5WaN"
      },
      "execution_count": null,
      "outputs": []
    },
    {
      "cell_type": "code",
      "source": [
        "main_dataset.loc[main_dataset.road_surface_conditions=='data missing or out of range','road_surface_conditions'] = 'dry'"
      ],
      "metadata": {
        "id": "vuTNQrCkeMrm"
      },
      "execution_count": null,
      "outputs": []
    },
    {
      "cell_type": "code",
      "source": [
        "main_dataset.loc[main_dataset.road_surface_conditions=='wet or damp','road_surface_conditions'] = 'wet'"
      ],
      "metadata": {
        "id": "4JJmOsIVf-OV"
      },
      "execution_count": null,
      "outputs": []
    },
    {
      "cell_type": "code",
      "source": [
        "main_dataset.loc[main_dataset.road_surface_conditions=='other','road_surface_conditions'] = 'other road surface conditions'"
      ],
      "metadata": {
        "id": "Cr6BvKSa5rwL"
      },
      "execution_count": null,
      "outputs": []
    },
    {
      "cell_type": "code",
      "source": [
        "main_dataset.loc[main_dataset.weather_conditions=='data missing or out of range','weather_conditions'] = 'fine'"
      ],
      "metadata": {
        "id": "H3j1o3YhgEkw"
      },
      "execution_count": null,
      "outputs": []
    },
    {
      "cell_type": "code",
      "source": [
        "main_dataset.loc[main_dataset.weather_conditions=='other','weather_conditions'] = 'other weather conditions '"
      ],
      "metadata": {
        "id": "xhriT8tlgFtt"
      },
      "execution_count": null,
      "outputs": []
    },
    {
      "cell_type": "code",
      "source": [
        "main_dataset.loc[main_dataset.weather_conditions=='fog or mist','weather_conditions'] = 'fog'"
      ],
      "metadata": {
        "id": "4hcrOUbegFW2"
      },
      "execution_count": null,
      "outputs": []
    },
    {
      "cell_type": "code",
      "source": [
        "main_dataset.isna().sum()"
      ],
      "metadata": {
        "colab": {
          "base_uri": "https://localhost:8080/"
        },
        "id": "96dGFwKggXaZ",
        "outputId": "39ee61fe-b180-4cca-c223-783577196a38"
      },
      "execution_count": null,
      "outputs": [
        {
          "output_type": "execute_result",
          "data": {
            "text/plain": [
              "speed_limit                      25\n",
              "light_conditions                  0\n",
              "weather_conditions                0\n",
              "road_surface_conditions           0\n",
              "vehicle_type                      0\n",
              "junction_location                 0\n",
              "skidding_and_overturning          0\n",
              "vehicle_leaving_carriageway       0\n",
              "hit_object_off_carriageway        0\n",
              "first_point_of_impact             0\n",
              "sex_of_driver                     0\n",
              "age_of_oldest_driver           6471\n",
              "accident_severity              1172\n",
              "dtype: int64"
            ]
          },
          "metadata": {},
          "execution_count": 134
        }
      ]
    },
    {
      "cell_type": "markdown",
      "source": [
        "Handling number of missing numerical values for age_of_oldest_driver and speed limit by replacing it with mean value"
      ],
      "metadata": {
        "id": "dXrKHZ9Lmxxs"
      }
    },
    {
      "cell_type": "code",
      "source": [
        "main_dataset_no_nans =  main_dataset.copy()\n",
        "\n",
        "# 1. Imputer\n",
        "imptr_num = SimpleImputer(missing_values = np.nan, strategy = 'mean')\n",
        "\n",
        "\n",
        "# 2. Fit the imputer object to the feature matrix (only for numeric features)\n",
        "numerical_columns = ['age_of_oldest_driver','speed_limit']\n",
        "imptr_num = imptr_num.fit(main_dataset_no_nans[numerical_columns]) # fit the data to estimate the parameters (here, the average value)\n",
        "\n",
        "# 3. Call Transform to replace missing data in main_dataset (on specific columns) by the mean of the column to which that missing data belongs to\n",
        "main_dataset_no_nans[numerical_columns] = \\\n",
        "  imptr_num.transform(main_dataset_no_nans[numerical_columns]) # apply the transformation using the parameters estimated above\n",
        "\n",
        "main_dataset_no_nans\n"
      ],
      "metadata": {
        "colab": {
          "base_uri": "https://localhost:8080/",
          "height": 692
        },
        "id": "Kl8JLa34m-cX",
        "outputId": "420f3244-021e-4f36-a5a1-0fdf34870913"
      },
      "execution_count": null,
      "outputs": [
        {
          "output_type": "execute_result",
          "data": {
            "text/plain": [
              "                speed_limit light_conditions         weather_conditions  \\\n",
              "accident_index                                                            \n",
              "2019010225080          30.0         darkness  other weather conditions    \n",
              "2019200908684          30.0         darkness                       fine   \n",
              "2019040860897          40.0         daylight                       fine   \n",
              "2019460847205          40.0         daylight                       fine   \n",
              "2019051911581          30.0         daylight                       fine   \n",
              "...                     ...              ...                        ...   \n",
              "2019070317173          30.0         darkness                       fine   \n",
              "2019970892077          60.0         daylight                       fine   \n",
              "20191369p0654          70.0         daylight                       fine   \n",
              "2019470903814          30.0         darkness                       fine   \n",
              "2019010214285          20.0         darkness                       fine   \n",
              "\n",
              "               road_surface_conditions        vehicle_type  \\\n",
              "accident_index                                               \n",
              "2019010225080                      wet    at least one van   \n",
              "2019200908684                      dry           only cars   \n",
              "2019040860897                      dry           only cars   \n",
              "2019460847205                      dry           only cars   \n",
              "2019051911581                      dry           only cars   \n",
              "...                                ...                 ...   \n",
              "2019070317173                      wet  at least one biped   \n",
              "2019970892077                      dry  other vehicle type   \n",
              "20191369p0654                      dry    at least one van   \n",
              "2019470903814                      wet           only cars   \n",
              "2019010214285                      dry  at least one biped   \n",
              "\n",
              "                                     junction_location  \\\n",
              "accident_index                                           \n",
              "2019010225080       at or within 20 metres of junction   \n",
              "2019200908684       at or within 20 metres of junction   \n",
              "2019040860897       at or within 20 metres of junction   \n",
              "2019460847205   not at or within 20 metres of junction   \n",
              "2019051911581   not at or within 20 metres of junction   \n",
              "...                                                ...   \n",
              "2019070317173   not at or within 20 metres of junction   \n",
              "2019970892077       at or within 20 metres of junction   \n",
              "20191369p0654   not at or within 20 metres of junction   \n",
              "2019470903814   not at or within 20 metres of junction   \n",
              "2019010214285       at or within 20 metres of junction   \n",
              "\n",
              "                                  skidding_and_overturning  \\\n",
              "accident_index                                               \n",
              "2019010225080                   no skidding or overturning   \n",
              "2019200908684                   no skidding or overturning   \n",
              "2019040860897                   no skidding or overturning   \n",
              "2019460847205                   no skidding or overturning   \n",
              "2019051911581                   no skidding or overturning   \n",
              "...                                                    ...   \n",
              "2019070317173                   no skidding or overturning   \n",
              "2019970892077   at least one vehicle skidded or overturned   \n",
              "20191369p0654                   no skidding or overturning   \n",
              "2019470903814                   no skidding or overturning   \n",
              "2019010214285                   no skidding or overturning   \n",
              "\n",
              "                             vehicle_leaving_carriageway  \\\n",
              "accident_index                                             \n",
              "2019010225080                   none leaving carriageway   \n",
              "2019200908684   at least one vehicle leaving carriageway   \n",
              "2019040860897                   none leaving carriageway   \n",
              "2019460847205                   none leaving carriageway   \n",
              "2019051911581                   none leaving carriageway   \n",
              "...                                                  ...   \n",
              "2019070317173                   none leaving carriageway   \n",
              "2019970892077                   none leaving carriageway   \n",
              "20191369p0654                   none leaving carriageway   \n",
              "2019470903814                   none leaving carriageway   \n",
              "2019010214285                   none leaving carriageway   \n",
              "\n",
              "                        hit_object_off_carriageway  \\\n",
              "accident_index                                       \n",
              "2019010225080                   none hit an object   \n",
              "2019200908684   at least one vehicle hit an object   \n",
              "2019040860897                   none hit an object   \n",
              "2019460847205                   none hit an object   \n",
              "2019051911581                   none hit an object   \n",
              "...                                            ...   \n",
              "2019070317173                   none hit an object   \n",
              "2019970892077                   none hit an object   \n",
              "20191369p0654                   none hit an object   \n",
              "2019470903814                   none hit an object   \n",
              "2019010214285                   none hit an object   \n",
              "\n",
              "                                   first_point_of_impact    sex_of_driver  \\\n",
              "accident_index                                                              \n",
              "2019010225080                     other points of impact        all males   \n",
              "2019200908684   at least one vehicle with frontal impact        all males   \n",
              "2019040860897   at least one vehicle with frontal impact        all males   \n",
              "2019460847205   at least one vehicle with frontal impact  male and female   \n",
              "2019051911581   at least one vehicle with frontal impact      all females   \n",
              "...                                                  ...              ...   \n",
              "2019070317173   at least one vehicle with frontal impact        all males   \n",
              "2019970892077                     other points of impact        all males   \n",
              "20191369p0654   at least one vehicle with frontal impact        all males   \n",
              "2019470903814                     other points of impact        all males   \n",
              "2019010214285   at least one vehicle with frontal impact        all males   \n",
              "\n",
              "                age_of_oldest_driver accident_severity  \n",
              "accident_index                                          \n",
              "2019010225080               63.00000           serious  \n",
              "2019200908684               82.00000             fatal  \n",
              "2019040860897               47.28273           serious  \n",
              "2019460847205               47.28273           serious  \n",
              "2019051911581               39.00000            slight  \n",
              "...                              ...               ...  \n",
              "2019070317173               27.00000           serious  \n",
              "2019970892077               27.00000           serious  \n",
              "20191369p0654               67.00000            slight  \n",
              "2019470903814               24.00000             fatal  \n",
              "2019010214285               54.00000             fatal  \n",
              "\n",
              "[31647 rows x 13 columns]"
            ],
            "text/html": [
              "\n",
              "  <div id=\"df-90aff0bc-ef68-4528-abe0-72260772ebcf\">\n",
              "    <div class=\"colab-df-container\">\n",
              "      <div>\n",
              "<style scoped>\n",
              "    .dataframe tbody tr th:only-of-type {\n",
              "        vertical-align: middle;\n",
              "    }\n",
              "\n",
              "    .dataframe tbody tr th {\n",
              "        vertical-align: top;\n",
              "    }\n",
              "\n",
              "    .dataframe thead th {\n",
              "        text-align: right;\n",
              "    }\n",
              "</style>\n",
              "<table border=\"1\" class=\"dataframe\">\n",
              "  <thead>\n",
              "    <tr style=\"text-align: right;\">\n",
              "      <th></th>\n",
              "      <th>speed_limit</th>\n",
              "      <th>light_conditions</th>\n",
              "      <th>weather_conditions</th>\n",
              "      <th>road_surface_conditions</th>\n",
              "      <th>vehicle_type</th>\n",
              "      <th>junction_location</th>\n",
              "      <th>skidding_and_overturning</th>\n",
              "      <th>vehicle_leaving_carriageway</th>\n",
              "      <th>hit_object_off_carriageway</th>\n",
              "      <th>first_point_of_impact</th>\n",
              "      <th>sex_of_driver</th>\n",
              "      <th>age_of_oldest_driver</th>\n",
              "      <th>accident_severity</th>\n",
              "    </tr>\n",
              "    <tr>\n",
              "      <th>accident_index</th>\n",
              "      <th></th>\n",
              "      <th></th>\n",
              "      <th></th>\n",
              "      <th></th>\n",
              "      <th></th>\n",
              "      <th></th>\n",
              "      <th></th>\n",
              "      <th></th>\n",
              "      <th></th>\n",
              "      <th></th>\n",
              "      <th></th>\n",
              "      <th></th>\n",
              "      <th></th>\n",
              "    </tr>\n",
              "  </thead>\n",
              "  <tbody>\n",
              "    <tr>\n",
              "      <th>2019010225080</th>\n",
              "      <td>30.0</td>\n",
              "      <td>darkness</td>\n",
              "      <td>other weather conditions</td>\n",
              "      <td>wet</td>\n",
              "      <td>at least one van</td>\n",
              "      <td>at or within 20 metres of junction</td>\n",
              "      <td>no skidding or overturning</td>\n",
              "      <td>none leaving carriageway</td>\n",
              "      <td>none hit an object</td>\n",
              "      <td>other points of impact</td>\n",
              "      <td>all males</td>\n",
              "      <td>63.00000</td>\n",
              "      <td>serious</td>\n",
              "    </tr>\n",
              "    <tr>\n",
              "      <th>2019200908684</th>\n",
              "      <td>30.0</td>\n",
              "      <td>darkness</td>\n",
              "      <td>fine</td>\n",
              "      <td>dry</td>\n",
              "      <td>only cars</td>\n",
              "      <td>at or within 20 metres of junction</td>\n",
              "      <td>no skidding or overturning</td>\n",
              "      <td>at least one vehicle leaving carriageway</td>\n",
              "      <td>at least one vehicle hit an object</td>\n",
              "      <td>at least one vehicle with frontal impact</td>\n",
              "      <td>all males</td>\n",
              "      <td>82.00000</td>\n",
              "      <td>fatal</td>\n",
              "    </tr>\n",
              "    <tr>\n",
              "      <th>2019040860897</th>\n",
              "      <td>40.0</td>\n",
              "      <td>daylight</td>\n",
              "      <td>fine</td>\n",
              "      <td>dry</td>\n",
              "      <td>only cars</td>\n",
              "      <td>at or within 20 metres of junction</td>\n",
              "      <td>no skidding or overturning</td>\n",
              "      <td>none leaving carriageway</td>\n",
              "      <td>none hit an object</td>\n",
              "      <td>at least one vehicle with frontal impact</td>\n",
              "      <td>all males</td>\n",
              "      <td>47.28273</td>\n",
              "      <td>serious</td>\n",
              "    </tr>\n",
              "    <tr>\n",
              "      <th>2019460847205</th>\n",
              "      <td>40.0</td>\n",
              "      <td>daylight</td>\n",
              "      <td>fine</td>\n",
              "      <td>dry</td>\n",
              "      <td>only cars</td>\n",
              "      <td>not at or within 20 metres of junction</td>\n",
              "      <td>no skidding or overturning</td>\n",
              "      <td>none leaving carriageway</td>\n",
              "      <td>none hit an object</td>\n",
              "      <td>at least one vehicle with frontal impact</td>\n",
              "      <td>male and female</td>\n",
              "      <td>47.28273</td>\n",
              "      <td>serious</td>\n",
              "    </tr>\n",
              "    <tr>\n",
              "      <th>2019051911581</th>\n",
              "      <td>30.0</td>\n",
              "      <td>daylight</td>\n",
              "      <td>fine</td>\n",
              "      <td>dry</td>\n",
              "      <td>only cars</td>\n",
              "      <td>not at or within 20 metres of junction</td>\n",
              "      <td>no skidding or overturning</td>\n",
              "      <td>none leaving carriageway</td>\n",
              "      <td>none hit an object</td>\n",
              "      <td>at least one vehicle with frontal impact</td>\n",
              "      <td>all females</td>\n",
              "      <td>39.00000</td>\n",
              "      <td>slight</td>\n",
              "    </tr>\n",
              "    <tr>\n",
              "      <th>...</th>\n",
              "      <td>...</td>\n",
              "      <td>...</td>\n",
              "      <td>...</td>\n",
              "      <td>...</td>\n",
              "      <td>...</td>\n",
              "      <td>...</td>\n",
              "      <td>...</td>\n",
              "      <td>...</td>\n",
              "      <td>...</td>\n",
              "      <td>...</td>\n",
              "      <td>...</td>\n",
              "      <td>...</td>\n",
              "      <td>...</td>\n",
              "    </tr>\n",
              "    <tr>\n",
              "      <th>2019070317173</th>\n",
              "      <td>30.0</td>\n",
              "      <td>darkness</td>\n",
              "      <td>fine</td>\n",
              "      <td>wet</td>\n",
              "      <td>at least one biped</td>\n",
              "      <td>not at or within 20 metres of junction</td>\n",
              "      <td>no skidding or overturning</td>\n",
              "      <td>none leaving carriageway</td>\n",
              "      <td>none hit an object</td>\n",
              "      <td>at least one vehicle with frontal impact</td>\n",
              "      <td>all males</td>\n",
              "      <td>27.00000</td>\n",
              "      <td>serious</td>\n",
              "    </tr>\n",
              "    <tr>\n",
              "      <th>2019970892077</th>\n",
              "      <td>60.0</td>\n",
              "      <td>daylight</td>\n",
              "      <td>fine</td>\n",
              "      <td>dry</td>\n",
              "      <td>other vehicle type</td>\n",
              "      <td>at or within 20 metres of junction</td>\n",
              "      <td>at least one vehicle skidded or overturned</td>\n",
              "      <td>none leaving carriageway</td>\n",
              "      <td>none hit an object</td>\n",
              "      <td>other points of impact</td>\n",
              "      <td>all males</td>\n",
              "      <td>27.00000</td>\n",
              "      <td>serious</td>\n",
              "    </tr>\n",
              "    <tr>\n",
              "      <th>20191369p0654</th>\n",
              "      <td>70.0</td>\n",
              "      <td>daylight</td>\n",
              "      <td>fine</td>\n",
              "      <td>dry</td>\n",
              "      <td>at least one van</td>\n",
              "      <td>not at or within 20 metres of junction</td>\n",
              "      <td>no skidding or overturning</td>\n",
              "      <td>none leaving carriageway</td>\n",
              "      <td>none hit an object</td>\n",
              "      <td>at least one vehicle with frontal impact</td>\n",
              "      <td>all males</td>\n",
              "      <td>67.00000</td>\n",
              "      <td>slight</td>\n",
              "    </tr>\n",
              "    <tr>\n",
              "      <th>2019470903814</th>\n",
              "      <td>30.0</td>\n",
              "      <td>darkness</td>\n",
              "      <td>fine</td>\n",
              "      <td>wet</td>\n",
              "      <td>only cars</td>\n",
              "      <td>not at or within 20 metres of junction</td>\n",
              "      <td>no skidding or overturning</td>\n",
              "      <td>none leaving carriageway</td>\n",
              "      <td>none hit an object</td>\n",
              "      <td>other points of impact</td>\n",
              "      <td>all males</td>\n",
              "      <td>24.00000</td>\n",
              "      <td>fatal</td>\n",
              "    </tr>\n",
              "    <tr>\n",
              "      <th>2019010214285</th>\n",
              "      <td>20.0</td>\n",
              "      <td>darkness</td>\n",
              "      <td>fine</td>\n",
              "      <td>dry</td>\n",
              "      <td>at least one biped</td>\n",
              "      <td>at or within 20 metres of junction</td>\n",
              "      <td>no skidding or overturning</td>\n",
              "      <td>none leaving carriageway</td>\n",
              "      <td>none hit an object</td>\n",
              "      <td>at least one vehicle with frontal impact</td>\n",
              "      <td>all males</td>\n",
              "      <td>54.00000</td>\n",
              "      <td>fatal</td>\n",
              "    </tr>\n",
              "  </tbody>\n",
              "</table>\n",
              "<p>31647 rows × 13 columns</p>\n",
              "</div>\n",
              "      <button class=\"colab-df-convert\" onclick=\"convertToInteractive('df-90aff0bc-ef68-4528-abe0-72260772ebcf')\"\n",
              "              title=\"Convert this dataframe to an interactive table.\"\n",
              "              style=\"display:none;\">\n",
              "        \n",
              "  <svg xmlns=\"http://www.w3.org/2000/svg\" height=\"24px\"viewBox=\"0 0 24 24\"\n",
              "       width=\"24px\">\n",
              "    <path d=\"M0 0h24v24H0V0z\" fill=\"none\"/>\n",
              "    <path d=\"M18.56 5.44l.94 2.06.94-2.06 2.06-.94-2.06-.94-.94-2.06-.94 2.06-2.06.94zm-11 1L8.5 8.5l.94-2.06 2.06-.94-2.06-.94L8.5 2.5l-.94 2.06-2.06.94zm10 10l.94 2.06.94-2.06 2.06-.94-2.06-.94-.94-2.06-.94 2.06-2.06.94z\"/><path d=\"M17.41 7.96l-1.37-1.37c-.4-.4-.92-.59-1.43-.59-.52 0-1.04.2-1.43.59L10.3 9.45l-7.72 7.72c-.78.78-.78 2.05 0 2.83L4 21.41c.39.39.9.59 1.41.59.51 0 1.02-.2 1.41-.59l7.78-7.78 2.81-2.81c.8-.78.8-2.07 0-2.86zM5.41 20L4 18.59l7.72-7.72 1.47 1.35L5.41 20z\"/>\n",
              "  </svg>\n",
              "      </button>\n",
              "      \n",
              "  <style>\n",
              "    .colab-df-container {\n",
              "      display:flex;\n",
              "      flex-wrap:wrap;\n",
              "      gap: 12px;\n",
              "    }\n",
              "\n",
              "    .colab-df-convert {\n",
              "      background-color: #E8F0FE;\n",
              "      border: none;\n",
              "      border-radius: 50%;\n",
              "      cursor: pointer;\n",
              "      display: none;\n",
              "      fill: #1967D2;\n",
              "      height: 32px;\n",
              "      padding: 0 0 0 0;\n",
              "      width: 32px;\n",
              "    }\n",
              "\n",
              "    .colab-df-convert:hover {\n",
              "      background-color: #E2EBFA;\n",
              "      box-shadow: 0px 1px 2px rgba(60, 64, 67, 0.3), 0px 1px 3px 1px rgba(60, 64, 67, 0.15);\n",
              "      fill: #174EA6;\n",
              "    }\n",
              "\n",
              "    [theme=dark] .colab-df-convert {\n",
              "      background-color: #3B4455;\n",
              "      fill: #D2E3FC;\n",
              "    }\n",
              "\n",
              "    [theme=dark] .colab-df-convert:hover {\n",
              "      background-color: #434B5C;\n",
              "      box-shadow: 0px 1px 3px 1px rgba(0, 0, 0, 0.15);\n",
              "      filter: drop-shadow(0px 1px 2px rgba(0, 0, 0, 0.3));\n",
              "      fill: #FFFFFF;\n",
              "    }\n",
              "  </style>\n",
              "\n",
              "      <script>\n",
              "        const buttonEl =\n",
              "          document.querySelector('#df-90aff0bc-ef68-4528-abe0-72260772ebcf button.colab-df-convert');\n",
              "        buttonEl.style.display =\n",
              "          google.colab.kernel.accessAllowed ? 'block' : 'none';\n",
              "\n",
              "        async function convertToInteractive(key) {\n",
              "          const element = document.querySelector('#df-90aff0bc-ef68-4528-abe0-72260772ebcf');\n",
              "          const dataTable =\n",
              "            await google.colab.kernel.invokeFunction('convertToInteractive',\n",
              "                                                     [key], {});\n",
              "          if (!dataTable) return;\n",
              "\n",
              "          const docLinkHtml = 'Like what you see? Visit the ' +\n",
              "            '<a target=\"_blank\" href=https://colab.research.google.com/notebooks/data_table.ipynb>data table notebook</a>'\n",
              "            + ' to learn more about interactive tables.';\n",
              "          element.innerHTML = '';\n",
              "          dataTable['output_type'] = 'display_data';\n",
              "          await google.colab.output.renderOutput(dataTable, element);\n",
              "          const docLink = document.createElement('div');\n",
              "          docLink.innerHTML = docLinkHtml;\n",
              "          element.appendChild(docLink);\n",
              "        }\n",
              "      </script>\n",
              "    </div>\n",
              "  </div>\n",
              "  "
            ]
          },
          "metadata": {},
          "execution_count": 135
        }
      ]
    },
    {
      "cell_type": "code",
      "source": [
        "main_dataset_no_nans.isnull().sum()"
      ],
      "metadata": {
        "colab": {
          "base_uri": "https://localhost:8080/"
        },
        "id": "K7SIpImFpzkk",
        "outputId": "ed86cf7a-5dc7-4a34-cb00-3103c84c7128"
      },
      "execution_count": null,
      "outputs": [
        {
          "output_type": "execute_result",
          "data": {
            "text/plain": [
              "speed_limit                       0\n",
              "light_conditions                  0\n",
              "weather_conditions                0\n",
              "road_surface_conditions           0\n",
              "vehicle_type                      0\n",
              "junction_location                 0\n",
              "skidding_and_overturning          0\n",
              "vehicle_leaving_carriageway       0\n",
              "hit_object_off_carriageway        0\n",
              "first_point_of_impact             0\n",
              "sex_of_driver                     0\n",
              "age_of_oldest_driver              0\n",
              "accident_severity              1172\n",
              "dtype: int64"
            ]
          },
          "metadata": {},
          "execution_count": 136
        }
      ]
    },
    {
      "cell_type": "markdown",
      "source": [
        "**Accident severity is the outcome value and it has 1172 rows with missing value out of 31647. This will be dropped.  "
      ],
      "metadata": {
        "id": "UMMHB588uP0_"
      }
    },
    {
      "cell_type": "code",
      "source": [
        "main_dataset_no_nans.dropna(subset=[\"accident_severity\"]).isna().sum()"
      ],
      "metadata": {
        "colab": {
          "base_uri": "https://localhost:8080/"
        },
        "id": "aeRfSdIgrc6M",
        "outputId": "bc3f5d43-c098-410c-feb2-a474ba3cc1bf"
      },
      "execution_count": null,
      "outputs": [
        {
          "output_type": "execute_result",
          "data": {
            "text/plain": [
              "speed_limit                    0\n",
              "light_conditions               0\n",
              "weather_conditions             0\n",
              "road_surface_conditions        0\n",
              "vehicle_type                   0\n",
              "junction_location              0\n",
              "skidding_and_overturning       0\n",
              "vehicle_leaving_carriageway    0\n",
              "hit_object_off_carriageway     0\n",
              "first_point_of_impact          0\n",
              "sex_of_driver                  0\n",
              "age_of_oldest_driver           0\n",
              "accident_severity              0\n",
              "dtype: int64"
            ]
          },
          "metadata": {},
          "execution_count": 137
        }
      ]
    },
    {
      "cell_type": "code",
      "source": [
        "#X = main_dataset_no_nans.drop('accident_severity', axis=1)\n",
        "#y = main_dataset_no_nans['accident_severity']\n",
        "#train_features, test_features, train_labels, test_labels = train_test_split(X, y, stratify=y,test_size=0.2)"
      ],
      "metadata": {
        "id": "7jqO_HsBn-zn"
      },
      "execution_count": null,
      "outputs": []
    },
    {
      "cell_type": "markdown",
      "source": [
        "Encoding catergorical data"
      ],
      "metadata": {
        "id": "yPUVx8tKQpxS"
      }
    },
    {
      "cell_type": "code",
      "source": [
        "ct_cat = ColumnTransformer(\n",
        "    [\n",
        "        (\n",
        "            \"onehot_categorical\", # --> name of the transformation\n",
        "            OneHotEncoder(), # --> main function to apply\n",
        "            Categorical_columns, #-->columns to apply it to (we can give more than one column at once!)\n",
        "        ),\n",
        "    ],\n",
        "    remainder=\"passthrough\", #--> what to do with the non-transformed columns. passthrough=keep them\n",
        "    verbose_feature_names_out=False #--> this keeps columns names simple. Try what happens if you set it as True\n",
        ")\n",
        "\n",
        "# the output is an NUMPY ARRAY with the encoded columns.\n",
        "encoded_array= ct_cat.fit_transform(main_dataset_no_nans)\n",
        "\n",
        "# What if we want a dataframe back? We can combine the array with the info about\n",
        "# the original and transformed column names.\n",
        "# This is stored in the ColumnTransformer object, which we called \"ct\"\n",
        "# We can access it via the \"get_feature_names_out()\" attribute like this:\n",
        "encoded_col_names= ct_cat.get_feature_names_out() #remember python's dot notation\n",
        "print(encoded_col_names) #note the combined name: original column + category (e.g. Gender_Female)\n",
        "\n",
        "main_dataset_no_nans = pd.DataFrame(encoded_array, columns=encoded_col_names)\n",
        "\n",
        "# make sure numerical columns are of type float\n",
        "main_dataset_no_nans= main_dataset_no_nans.astype(dtype={col: \"float64\" for col in numerical_columns})"
      ],
      "metadata": {
        "colab": {
          "base_uri": "https://localhost:8080/"
        },
        "id": "fGqUQYoGKDy6",
        "outputId": "e56d5592-4c9f-4b17-923b-9f391c83676e"
      },
      "execution_count": null,
      "outputs": [
        {
          "output_type": "stream",
          "name": "stdout",
          "text": [
            "['light_conditions_darkness' 'light_conditions_daylight'\n",
            " 'weather_conditions_fine' 'weather_conditions_fog'\n",
            " 'weather_conditions_other weather conditions '\n",
            " 'road_surface_conditions_dry'\n",
            " 'road_surface_conditions_flood over 3cm. deep'\n",
            " 'road_surface_conditions_other road surface conditions'\n",
            " 'road_surface_conditions_wet' 'vehicle_type_at least one biped'\n",
            " 'vehicle_type_at least one van' 'vehicle_type_biped and van'\n",
            " 'vehicle_type_only cars' 'vehicle_type_other vehicle type'\n",
            " 'junction_location_at or within 20 metres of junction'\n",
            " 'junction_location_not at or within 20 metres of junction'\n",
            " 'skidding_and_overturning_at least one vehicle skidded or overturned'\n",
            " 'skidding_and_overturning_no skidding or overturning'\n",
            " 'vehicle_leaving_carriageway_at least one vehicle leaving carriageway'\n",
            " 'vehicle_leaving_carriageway_none leaving carriageway'\n",
            " 'hit_object_off_carriageway_at least one vehicle hit an object'\n",
            " 'hit_object_off_carriageway_none hit an object'\n",
            " 'first_point_of_impact_at least one vehicle with frontal impact'\n",
            " 'first_point_of_impact_no impact'\n",
            " 'first_point_of_impact_other points of impact'\n",
            " 'sex_of_driver_all females' 'sex_of_driver_all males'\n",
            " 'sex_of_driver_male and female' 'accident_severity_fatal'\n",
            " 'accident_severity_serious' 'accident_severity_slight'\n",
            " 'accident_severity_nan' 'speed_limit' 'age_of_oldest_driver']\n"
          ]
        }
      ]
    },
    {
      "cell_type": "code",
      "source": [
        "# make sure numerical columns are of type float\n",
        "main_dataset_no_nans= main_dataset_no_nans.astype(dtype={col: \"float64\" for col in numerical_columns})"
      ],
      "metadata": {
        "id": "Z9Q3FJafetiZ"
      },
      "execution_count": null,
      "outputs": []
    },
    {
      "cell_type": "markdown",
      "source": [
        "Scaling of numerical data"
      ],
      "metadata": {
        "id": "T_SUMqeRiMD1"
      }
    },
    {
      "cell_type": "code",
      "source": [
        "# create the Scaling object\n",
        "\n",
        "my_scaler_num= StandardScaler()\n",
        "\n",
        "# fit and transform the appropriate columns in the main dataset\n",
        "main_dataset_no_nans[numerical_columns]= my_scaler_num.fit_transform(main_dataset_no_nans[numerical_columns])\n",
        "\n",
        "# show results\n",
        "print(main_dataset_no_nans[numerical_columns].head())\n"
      ],
      "metadata": {
        "colab": {
          "base_uri": "https://localhost:8080/"
        },
        "id": "XAMtyA78e5o_",
        "outputId": "929769fa-b5f1-40e3-d654-359370fbb49e"
      },
      "execution_count": null,
      "outputs": [
        {
          "output_type": "stream",
          "name": "stdout",
          "text": [
            "   age_of_oldest_driver  speed_limit\n",
            "0              1.051623    -0.478499\n",
            "1              2.322889    -0.478499\n",
            "2              0.000000     0.246309\n",
            "3              0.000000     0.246309\n",
            "4             -0.554187    -0.478499\n"
          ]
        }
      ]
    },
    {
      "cell_type": "markdown",
      "source": [
        "### Exploratory Data Analysis"
      ],
      "metadata": {
        "id": "KMhGEf1Jn5iF"
      }
    },
    {
      "cell_type": "code",
      "source": [
        "print(type(main_dataset_no_nans))"
      ],
      "metadata": {
        "colab": {
          "base_uri": "https://localhost:8080/"
        },
        "id": "Jlte0SXXu_2K",
        "outputId": "9ccb7f74-fe71-44d4-f0a9-4b8321c16f93"
      },
      "execution_count": null,
      "outputs": [
        {
          "output_type": "stream",
          "name": "stdout",
          "text": [
            "<class 'pandas.core.frame.DataFrame'>\n"
          ]
        }
      ]
    },
    {
      "cell_type": "code",
      "source": [
        "print(main_dataset_no_nans.keys())"
      ],
      "metadata": {
        "colab": {
          "base_uri": "https://localhost:8080/"
        },
        "id": "DOI8WjWLvMGy",
        "outputId": "be321065-85ef-49ad-ac28-88d6764c84d9"
      },
      "execution_count": null,
      "outputs": [
        {
          "output_type": "stream",
          "name": "stdout",
          "text": [
            "Index(['light_conditions_darkness', 'light_conditions_daylight',\n",
            "       'weather_conditions_fine', 'weather_conditions_fog',\n",
            "       'weather_conditions_other weather conditions ',\n",
            "       'road_surface_conditions_dry',\n",
            "       'road_surface_conditions_flood over 3cm. deep',\n",
            "       'road_surface_conditions_other road surface conditions',\n",
            "       'road_surface_conditions_wet', 'vehicle_type_at least one biped',\n",
            "       'vehicle_type_at least one van', 'vehicle_type_biped and van',\n",
            "       'vehicle_type_only cars', 'vehicle_type_other vehicle type',\n",
            "       'junction_location_at or within 20 metres of junction',\n",
            "       'junction_location_not at or within 20 metres of junction',\n",
            "       'skidding_and_overturning_at least one vehicle skidded or overturned',\n",
            "       'skidding_and_overturning_no skidding or overturning',\n",
            "       'vehicle_leaving_carriageway_at least one vehicle leaving carriageway',\n",
            "       'vehicle_leaving_carriageway_none leaving carriageway',\n",
            "       'hit_object_off_carriageway_at least one vehicle hit an object',\n",
            "       'hit_object_off_carriageway_none hit an object',\n",
            "       'first_point_of_impact_at least one vehicle with frontal impact',\n",
            "       'first_point_of_impact_no impact',\n",
            "       'first_point_of_impact_other points of impact',\n",
            "       'sex_of_driver_all females', 'sex_of_driver_all males',\n",
            "       'sex_of_driver_male and female', 'accident_severity_fatal',\n",
            "       'accident_severity_serious', 'accident_severity_slight',\n",
            "       'accident_severity_nan', 'speed_limit', 'age_of_oldest_driver'],\n",
            "      dtype='object')\n"
          ]
        }
      ]
    },
    {
      "cell_type": "code",
      "source": [
        "Categorical_features= ['light_conditions', 'weather_conditions', 'road_surface_conditions','vehicle_type', 'junction_location','skidding_and_overturning','vehicle_leaving_carriageway','hit_object_off_carriageway','first_point_of_impact','sex_of_driver']"
      ],
      "metadata": {
        "id": "fBaCh7KMadGD"
      },
      "execution_count": null,
      "outputs": []
    },
    {
      "cell_type": "code",
      "source": [
        "numerical_columns = ['age_of_oldest_driver','speed_limit']"
      ],
      "metadata": {
        "id": "Kqkv_jTB0rWi"
      },
      "execution_count": null,
      "outputs": []
    },
    {
      "cell_type": "code",
      "source": [
        "target_main=['accident_severity']"
      ],
      "metadata": {
        "id": "m_W8mgsEoL19"
      },
      "execution_count": null,
      "outputs": []
    },
    {
      "cell_type": "code",
      "source": [
        "# correlation map between numerical features\n",
        "\n",
        "corr = (main_dataset_no_nans[numerical_columns].corr())\n",
        "\n",
        "corr.style.background_gradient(cmap='viridis', axis=None).set_precision(2)"
      ],
      "metadata": {
        "colab": {
          "base_uri": "https://localhost:8080/",
          "height": 147
        },
        "id": "xgS2wNkHpMmH",
        "outputId": "25c48aae-5da8-46fe-9f52-061f04cad5d4"
      },
      "execution_count": null,
      "outputs": [
        {
          "output_type": "stream",
          "name": "stderr",
          "text": [
            "<ipython-input-147-be716e6cec5c>:5: FutureWarning: this method is deprecated in favour of `Styler.format(precision=..)`\n",
            "  corr.style.background_gradient(cmap='viridis', axis=None).set_precision(2)\n"
          ]
        },
        {
          "output_type": "execute_result",
          "data": {
            "text/plain": [
              "<pandas.io.formats.style.Styler at 0x7fa2b75cd880>"
            ],
            "text/html": [
              "<style type=\"text/css\">\n",
              "#T_cabd3_row0_col0, #T_cabd3_row1_col1 {\n",
              "  background-color: #fde725;\n",
              "  color: #000000;\n",
              "}\n",
              "#T_cabd3_row0_col1, #T_cabd3_row1_col0 {\n",
              "  background-color: #440154;\n",
              "  color: #f1f1f1;\n",
              "}\n",
              "</style>\n",
              "<table id=\"T_cabd3\" class=\"dataframe\">\n",
              "  <thead>\n",
              "    <tr>\n",
              "      <th class=\"blank level0\" >&nbsp;</th>\n",
              "      <th id=\"T_cabd3_level0_col0\" class=\"col_heading level0 col0\" >age_of_oldest_driver</th>\n",
              "      <th id=\"T_cabd3_level0_col1\" class=\"col_heading level0 col1\" >speed_limit</th>\n",
              "    </tr>\n",
              "  </thead>\n",
              "  <tbody>\n",
              "    <tr>\n",
              "      <th id=\"T_cabd3_level0_row0\" class=\"row_heading level0 row0\" >age_of_oldest_driver</th>\n",
              "      <td id=\"T_cabd3_row0_col0\" class=\"data row0 col0\" >1.00</td>\n",
              "      <td id=\"T_cabd3_row0_col1\" class=\"data row0 col1\" >0.03</td>\n",
              "    </tr>\n",
              "    <tr>\n",
              "      <th id=\"T_cabd3_level0_row1\" class=\"row_heading level0 row1\" >speed_limit</th>\n",
              "      <td id=\"T_cabd3_row1_col0\" class=\"data row1 col0\" >0.03</td>\n",
              "      <td id=\"T_cabd3_row1_col1\" class=\"data row1 col1\" >1.00</td>\n",
              "    </tr>\n",
              "  </tbody>\n",
              "</table>\n"
            ]
          },
          "metadata": {},
          "execution_count": 147
        }
      ]
    },
    {
      "cell_type": "markdown",
      "source": [
        "The age of oldest driver distribution"
      ],
      "metadata": {
        "id": "UyuRy4qA4r1L"
      }
    },
    {
      "cell_type": "code",
      "source": [
        "\n",
        "_ = plt.figure(figsize=(10, 5))\n",
        "_ = plt.hist(main_dataset_no_nans['age_of_oldest_driver'], bins=20)\n",
        "title = \"Age histogram: mean = {:0.2f},  std = {:0.2f}\".format(main_dataset_no_nans['age_of_oldest_driver'].mean(),\n",
        "                                                                 main_dataset_no_nans['age_of_oldest_driver'].std())\n",
        "_ = plt.title(title)\n",
        "_ = plt.xlabel('Age of oldest driver')\n",
        "_ = plt.ylabel('Frequency')"
      ],
      "metadata": {
        "colab": {
          "base_uri": "https://localhost:8080/",
          "height": 487
        },
        "id": "TV5-7bjl0HBU",
        "outputId": "38d8ad88-a700-47ee-e93a-83d7bce2f396"
      },
      "execution_count": null,
      "outputs": [
        {
          "output_type": "display_data",
          "data": {
            "text/plain": [
              "<Figure size 1000x500 with 1 Axes>"
            ],
            "image/png": "[encoded data removed]"
          },
          "metadata": {}
        }
      ]
    },
    {
      "cell_type": "markdown",
      "source": [
        "Speed limit histogram"
      ],
      "metadata": {
        "id": "eRymc6lr4iMY"
      }
    },
    {
      "cell_type": "code",
      "source": [
        "_ = plt.figure(figsize=(10, 5))\n",
        "_ = plt.hist(main_dataset_no_nans['speed_limit'], bins=20)\n",
        "title = \"Speed histogram: mean = {:0.2f},  std = {:0.2f}\".format(main_dataset_no_nans['speed_limit'].mean(),\n",
        "                                                                 main_dataset_no_nans['speed_limit'].std())\n",
        "_ = plt.title(title)\n",
        "_ = plt.xlabel('Speed')\n",
        "_ = plt.ylabel('Frequency')"
      ],
      "metadata": {
        "colab": {
          "base_uri": "https://localhost:8080/",
          "height": 487
        },
        "id": "85DHYsAE1uBi",
        "outputId": "0050cb3d-a81a-4655-f222-7d9d64e1e7c3"
      },
      "execution_count": null,
      "outputs": [
        {
          "output_type": "display_data",
          "data": {
            "text/plain": [
              "<Figure size 1000x500 with 1 Axes>"
            ],
            "image/png": "[encoded data removed]"
          },
          "metadata": {}
        }
      ]
    },
    {
      "cell_type": "markdown",
      "source": [
        "Principal component analysis"
      ],
      "metadata": {
        "id": "R30bI2eNDsLQ"
      }
    },
    {
      "cell_type": "code",
      "source": [
        "scaler = StandardScaler().set_output(transform=\"pandas\")\n",
        "\n",
        "scaled_data_main = scaler.fit_transform(main_dataset_no_nans)\n"
      ],
      "metadata": {
        "id": "eo5RZGzTCaK4"
      },
      "execution_count": null,
      "outputs": []
    },
    {
      "cell_type": "code",
      "source": [
        "from sklearn.decomposition import PCA\n",
        "\n",
        "# checking with various n_components of PCA\n",
        "# and storing the result -- cumulative variance explained by the transformed features\n",
        "comp_num_lst = range(2,14)\n",
        "# we start from at least 2 principal components and we can not have more principal components than features\n",
        "# (remember that the range(A,B) creates a list of numbers from A to B-1, that is with B *excluded*)\n",
        "# let's store how much explained variance we have with each extra component\n",
        "var_exp_lst = []\n",
        "\n",
        "# we build multiple PCA models, each with a different number of principal components we choose to retain\n",
        "for comp_num in comp_num_lst:\n",
        "    # initialize PCA object and specify the number of PCA feature to get\n",
        "    pca = PCA(n_components=comp_num)\n",
        "    pca = pca.fit(scaled_data_main)\n",
        "    var_exp_lst.append(np.sum(pca.explained_variance_ratio_))"
      ],
      "metadata": {
        "id": "xk1_m2eUFzqt"
      },
      "execution_count": null,
      "outputs": []
    },
    {
      "cell_type": "code",
      "source": [
        "# let's plot the explained variance as a function of the number of components\n",
        "# this is an auxiliary variable to build a proper horizontal axis\n",
        "ind = [i for i in range(len(comp_num_lst))]\n",
        "\n",
        "fig = plt.figure(figsize=(10, 5))\n",
        "ax1 = plt.subplot(111)\n",
        "# we want as many bars as there are PCA models we tried\n",
        "_ = ax1.set_xticks(ind)\n",
        "_ = ax1.set_xticklabels(comp_num_lst)\n",
        "_ = ax1.bar(ind, var_exp_lst, width=0.8, color='red')\n",
        "_ = ax1.set_title('Explained Variance for Various Numbers of Principal Components')\n",
        "_ = ax1.set_xlabel('n_components')\n",
        "_ = ax1.set_ylabel('Explained Variance')\n",
        "\n",
        "print('Explained Variances: {}'.format(dict(zip(comp_num_lst, [np.around(t,3) for t in var_exp_lst]))))\n",
        "print()\n",
        "#plt.show()"
      ],
      "metadata": {
        "colab": {
          "base_uri": "https://localhost:8080/",
          "height": 522
        },
        "id": "WKHma5twGtN0",
        "outputId": "18c5990e-0a2c-4a96-a657-643953985fa2"
      },
      "execution_count": null,
      "outputs": [
        {
          "output_type": "stream",
          "name": "stdout",
          "text": [
            "Explained Variances: {2: 0.242, 3: 0.317, 4: 0.384, 5: 0.447, 6: 0.5, 7: 0.548, 8: 0.592, 9: 0.635, 10: 0.671, 11: 0.703, 12: 0.734, 13: 0.765}\n",
            "\n"
          ]
        },
        {
          "output_type": "display_data",
          "data": {
            "text/plain": [
              "<Figure size 1000x500 with 1 Axes>"
            ],
            "image/png": "[encoded data removed]"
          },
          "metadata": {}
        }
      ]
    },
    {
      "cell_type": "code",
      "source": [
        "pca = PCA(n_components=.80)\n",
        "pca_transform = pca.fit_transform(scaled_data_main)\n",
        "print(f'We need {len(pca.explained_variance_ratio_)} components to explain at least 80% of the variance')"
      ],
      "metadata": {
        "colab": {
          "base_uri": "https://localhost:8080/"
        },
        "id": "Z3zMDmZRDQqf",
        "outputId": "2ae249b9-84fa-4fa5-cb6f-cd59d1831e20"
      },
      "execution_count": null,
      "outputs": [
        {
          "output_type": "stream",
          "name": "stdout",
          "text": [
            "We need 15 components to explain at least 80% of the variance\n"
          ]
        }
      ]
    },
    {
      "cell_type": "markdown",
      "source": [
        "## **Splitting the main data set in to Training and Test Datasets **"
      ],
      "metadata": {
        "id": "joZutWTsUe1G"
      }
    },
    {
      "cell_type": "markdown",
      "source": [
        "Training, test dataset needs to be divided as 80:20"
      ],
      "metadata": {
        "id": "VDmn2WPA_HaK"
      }
    },
    {
      "cell_type": "code",
      "source": [
        "X = main_dataset_no_nans.drop(['accident_severity_fatal', 'accident_severity_serious', 'accident_severity_slight', 'accident_severity_nan'], axis=1)\n",
        "y = main_dataset_no_nans[['accident_severity_fatal', 'accident_severity_serious', 'accident_severity_slight', 'accident_severity_nan']]\n",
        "train_features, test_features, train_labels, test_labels = train_test_split(X, y, stratify=y,test_size=0.2)"
      ],
      "metadata": {
        "id": "CbXFeGmjBH7X"
      },
      "execution_count": null,
      "outputs": []
    },
    {
      "cell_type": "code",
      "source": [
        "print(train_features.shape)"
      ],
      "metadata": {
        "colab": {
          "base_uri": "https://localhost:8080/"
        },
        "id": "QnRLb--uqyxj",
        "outputId": "70b88f7e-b9d7-4bd6-e286-fd0c536a4a99"
      },
      "execution_count": null,
      "outputs": [
        {
          "output_type": "stream",
          "name": "stdout",
          "text": [
            "(25317, 30)\n"
          ]
        }
      ]
    },
    {
      "cell_type": "code",
      "source": [
        "print(train_labels.shape)"
      ],
      "metadata": {
        "colab": {
          "base_uri": "https://localhost:8080/"
        },
        "id": "52TWLWlTq4MA",
        "outputId": "054bb922-a051-4835-bf82-40fbe82328e5"
      },
      "execution_count": null,
      "outputs": [
        {
          "output_type": "stream",
          "name": "stdout",
          "text": [
            "(25317, 4)\n"
          ]
        }
      ]
    },
    {
      "cell_type": "code",
      "source": [
        "print(test_features.shape)"
      ],
      "metadata": {
        "colab": {
          "base_uri": "https://localhost:8080/"
        },
        "id": "jgHOpkZ7q8R3",
        "outputId": "97b3c933-c5f5-4d8a-e013-7336f35e4d0e"
      },
      "execution_count": null,
      "outputs": [
        {
          "output_type": "stream",
          "name": "stdout",
          "text": [
            "(6330, 30)\n"
          ]
        }
      ]
    },
    {
      "cell_type": "code",
      "source": [
        "print(test_labels.shape)"
      ],
      "metadata": {
        "colab": {
          "base_uri": "https://localhost:8080/"
        },
        "id": "8Hnc4oYQrCp9",
        "outputId": "3e6000a9-98cf-4ea4-c4ac-fe5b175035ad"
      },
      "execution_count": null,
      "outputs": [
        {
          "output_type": "stream",
          "name": "stdout",
          "text": [
            "(6330, 4)\n"
          ]
        }
      ]
    },
    {
      "cell_type": "markdown",
      "source": [
        "## Classification using traditional machine learning"
      ],
      "metadata": {
        "id": "-LYcYJKTykuv"
      }
    },
    {
      "cell_type": "markdown",
      "source": [
        "**Modeling using Random forest **"
      ],
      "metadata": {
        "id": "0m10xRbt2pTM"
      }
    },
    {
      "cell_type": "code",
      "source": [
        "rf = RandomForestClassifier()\n",
        "rf.fit(train_features, train_labels)"
      ],
      "metadata": {
        "colab": {
          "base_uri": "https://localhost:8080/",
          "height": 74
        },
        "id": "_ghr1TV78nVr",
        "outputId": "ea38d067-d565-4fa8-821c-58c83ea9d304"
      },
      "execution_count": null,
      "outputs": [
        {
          "output_type": "execute_result",
          "data": {
            "text/plain": [
              "RandomForestClassifier()"
            ],
            "text/html": [
              "<style>#sk-container-id-3 {color: black;background-color: white;}#sk-container-id-3 pre{padding: 0;}#sk-container-id-3 div.sk-toggleable {background-color: white;}#sk-container-id-3 label.sk-toggleable__label {cursor: pointer;display: block;width: 100%;margin-bottom: 0;padding: 0.3em;box-sizing: border-box;text-align: center;}#sk-container-id-3 label.sk-toggleable__label-arrow:before {content: \"▸\";float: left;margin-right: 0.25em;color: #696969;}#sk-container-id-3 label.sk-toggleable__label-arrow:hover:before {color: black;}#sk-container-id-3 div.sk-estimator:hover label.sk-toggleable__label-arrow:before {color: black;}#sk-container-id-3 div.sk-toggleable__content {max-height: 0;max-width: 0;overflow: hidden;text-align: left;background-color: #f0f8ff;}#sk-container-id-3 div.sk-toggleable__content pre {margin: 0.2em;color: black;border-radius: 0.25em;background-color: #f0f8ff;}#sk-container-id-3 input.sk-toggleable__control:checked~div.sk-toggleable__content {max-height: 200px;max-width: 100%;overflow: auto;}#sk-container-id-3 input.sk-toggleable__control:checked~label.sk-toggleable__label-arrow:before {content: \"▾\";}#sk-container-id-3 div.sk-estimator input.sk-toggleable__control:checked~label.sk-toggleable__label {background-color: #d4ebff;}#sk-container-id-3 div.sk-label input.sk-toggleable__control:checked~label.sk-toggleable__label {background-color: #d4ebff;}#sk-container-id-3 input.sk-hidden--visually {border: 0;clip: rect(1px 1px 1px 1px);clip: rect(1px, 1px, 1px, 1px);height: 1px;margin: -1px;overflow: hidden;padding: 0;position: absolute;width: 1px;}#sk-container-id-3 div.sk-estimator {font-family: monospace;background-color: #f0f8ff;border: 1px dotted black;border-radius: 0.25em;box-sizing: border-box;margin-bottom: 0.5em;}#sk-container-id-3 div.sk-estimator:hover {background-color: #d4ebff;}#sk-container-id-3 div.sk-parallel-item::after {content: \"\";width: 100%;border-bottom: 1px solid gray;flex-grow: 1;}#sk-container-id-3 div.sk-label:hover label.sk-toggleable__label {background-color: #d4ebff;}#sk-container-id-3 div.sk-serial::before {content: \"\";position: absolute;border-left: 1px solid gray;box-sizing: border-box;top: 0;bottom: 0;left: 50%;z-index: 0;}#sk-container-id-3 div.sk-serial {display: flex;flex-direction: column;align-items: center;background-color: white;padding-right: 0.2em;padding-left: 0.2em;position: relative;}#sk-container-id-3 div.sk-item {position: relative;z-index: 1;}#sk-container-id-3 div.sk-parallel {display: flex;align-items: stretch;justify-content: center;background-color: white;position: relative;}#sk-container-id-3 div.sk-item::before, #sk-container-id-3 div.sk-parallel-item::before {content: \"\";position: absolute;border-left: 1px solid gray;box-sizing: border-box;top: 0;bottom: 0;left: 50%;z-index: -1;}#sk-container-id-3 div.sk-parallel-item {display: flex;flex-direction: column;z-index: 1;position: relative;background-color: white;}#sk-container-id-3 div.sk-parallel-item:first-child::after {align-self: flex-end;width: 50%;}#sk-container-id-3 div.sk-parallel-item:last-child::after {align-self: flex-start;width: 50%;}#sk-container-id-3 div.sk-parallel-item:only-child::after {width: 0;}#sk-container-id-3 div.sk-dashed-wrapped {border: 1px dashed gray;margin: 0 0.4em 0.5em 0.4em;box-sizing: border-box;padding-bottom: 0.4em;background-color: white;}#sk-container-id-3 div.sk-label label {font-family: monospace;font-weight: bold;display: inline-block;line-height: 1.2em;}#sk-container-id-3 div.sk-label-container {text-align: center;}#sk-container-id-3 div.sk-container {/* jupyter's `normalize.less` sets `[hidden] { display: none; }` but bootstrap.min.css set `[hidden] { display: none !important; }` so we also need the `!important` here to be able to override the default hidden behavior on the sphinx rendered scikit-learn.org. See: https://github.com/scikit-learn/scikit-learn/issues/21755 */display: inline-block !important;position: relative;}#sk-container-id-3 div.sk-text-repr-fallback {display: none;}</style><div id=\"sk-container-id-3\" class=\"sk-top-container\"><div class=\"sk-text-repr-fallback\"><pre>RandomForestClassifier()</pre><b>In a Jupyter environment, please rerun this cell to show the HTML representation or trust the notebook. <br />On GitHub, the HTML representation is unable to render, please try loading this page with nbviewer.org.</b></div><div class=\"sk-container\" hidden><div class=\"sk-item\"><div class=\"sk-estimator sk-toggleable\"><input class=\"sk-toggleable__control sk-hidden--visually\" id=\"sk-estimator-id-5\" type=\"checkbox\" checked><label for=\"sk-estimator-id-5\" class=\"sk-toggleable__label sk-toggleable__label-arrow\">RandomForestClassifier</label><div class=\"sk-toggleable__content\"><pre>RandomForestClassifier()</pre></div></div></div></div></div>"
            ]
          },
          "metadata": {},
          "execution_count": 159
        }
      ]
    },
    {
      "cell_type": "code",
      "source": [
        "y_pred = rf.predict(test_features)"
      ],
      "metadata": {
        "id": "DC4wz1za-Vx5"
      },
      "execution_count": null,
      "outputs": []
    },
    {
      "cell_type": "code",
      "source": [
        "accuracy = accuracy_score(test_labels, y_pred)\n",
        "print(\"Accuracy:\", accuracy)"
      ],
      "metadata": {
        "colab": {
          "base_uri": "https://localhost:8080/"
        },
        "id": "68LICd6k_LD7",
        "outputId": "aef65540-9ce1-4125-bca8-0abd3309149f"
      },
      "execution_count": null,
      "outputs": [
        {
          "output_type": "stream",
          "name": "stdout",
          "text": [
            "Accuracy: 0.6589257503949447\n"
          ]
        }
      ]
    },
    {
      "cell_type": "code",
      "source": [
        "precision = precision_score(test_labels, y_pred,average='micro')\n",
        "print(\"Precision:\", precision)"
      ],
      "metadata": {
        "colab": {
          "base_uri": "https://localhost:8080/"
        },
        "id": "tzklMvEIExVK",
        "outputId": "e644f098-3b10-4fd6-ab3a-84e737e6e9ad"
      },
      "execution_count": null,
      "outputs": [
        {
          "output_type": "stream",
          "name": "stdout",
          "text": [
            "Precision: 0.7049180327868853\n"
          ]
        }
      ]
    },
    {
      "cell_type": "code",
      "source": [
        "recall = recall_score(test_labels, y_pred,average='micro')\n",
        "print(\"Recall:\", recall)"
      ],
      "metadata": {
        "colab": {
          "base_uri": "https://localhost:8080/"
        },
        "id": "-K4G214NFPDJ",
        "outputId": "ca135eb5-e97d-4202-abcf-a2a8bb7b7ad4"
      },
      "execution_count": null,
      "outputs": [
        {
          "output_type": "stream",
          "name": "stdout",
          "text": [
            "Recall: 0.6589257503949447\n"
          ]
        }
      ]
    },
    {
      "cell_type": "markdown",
      "source": [
        "Hyperparameter Tuning"
      ],
      "metadata": {
        "id": "vhnjEuXTcDZF"
      }
    },
    {
      "cell_type": "code",
      "source": [
        "param_dist = {'n_estimators': randint(50,500),\n",
        "              'max_depth': randint(1,20)}\n",
        "\n",
        "# Create a random forest classifier\n",
        "rf = RandomForestClassifier()\n",
        "\n",
        "# Use random search to find the best hyperparameters\n",
        "rand_search = RandomizedSearchCV(rf,\n",
        "                                 param_distributions = param_dist,\n",
        "                                 n_iter=5,\n",
        "                                 cv=5)\n",
        "\n",
        "# Fit the random search object to the data\n",
        "rand_search.fit(train_features, train_labels)"
      ],
      "metadata": {
        "colab": {
          "base_uri": "https://localhost:8080/",
          "height": 117
        },
        "id": "9ybD1FRDbSVZ",
        "outputId": "49de64ea-a1e1-47c7-c1ab-2ddb558ea656"
      },
      "execution_count": null,
      "outputs": [
        {
          "output_type": "execute_result",
          "data": {
            "text/plain": [
              "RandomizedSearchCV(cv=5, estimator=RandomForestClassifier(), n_iter=5,\n",
              "                   param_distributions={'max_depth': <scipy.stats._distn_infrastructure.rv_discrete_frozen object at 0x7fa2b7e9c8e0>,\n",
              "                                        'n_estimators': <scipy.stats._distn_infrastructure.rv_discrete_frozen object at 0x7fa2b7ea0f70>})"
            ],
            "text/html": [
              "<style>#sk-container-id-4 {color: black;background-color: white;}#sk-container-id-4 pre{padding: 0;}#sk-container-id-4 div.sk-toggleable {background-color: white;}#sk-container-id-4 label.sk-toggleable__label {cursor: pointer;display: block;width: 100%;margin-bottom: 0;padding: 0.3em;box-sizing: border-box;text-align: center;}#sk-container-id-4 label.sk-toggleable__label-arrow:before {content: \"▸\";float: left;margin-right: 0.25em;color: #696969;}#sk-container-id-4 label.sk-toggleable__label-arrow:hover:before {color: black;}#sk-container-id-4 div.sk-estimator:hover label.sk-toggleable__label-arrow:before {color: black;}#sk-container-id-4 div.sk-toggleable__content {max-height: 0;max-width: 0;overflow: hidden;text-align: left;background-color: #f0f8ff;}#sk-container-id-4 div.sk-toggleable__content pre {margin: 0.2em;color: black;border-radius: 0.25em;background-color: #f0f8ff;}#sk-container-id-4 input.sk-toggleable__control:checked~div.sk-toggleable__content {max-height: 200px;max-width: 100%;overflow: auto;}#sk-container-id-4 input.sk-toggleable__control:checked~label.sk-toggleable__label-arrow:before {content: \"▾\";}#sk-container-id-4 div.sk-estimator input.sk-toggleable__control:checked~label.sk-toggleable__label {background-color: #d4ebff;}#sk-container-id-4 div.sk-label input.sk-toggleable__control:checked~label.sk-toggleable__label {background-color: #d4ebff;}#sk-container-id-4 input.sk-hidden--visually {border: 0;clip: rect(1px 1px 1px 1px);clip: rect(1px, 1px, 1px, 1px);height: 1px;margin: -1px;overflow: hidden;padding: 0;position: absolute;width: 1px;}#sk-container-id-4 div.sk-estimator {font-family: monospace;background-color: #f0f8ff;border: 1px dotted black;border-radius: 0.25em;box-sizing: border-box;margin-bottom: 0.5em;}#sk-container-id-4 div.sk-estimator:hover {background-color: #d4ebff;}#sk-container-id-4 div.sk-parallel-item::after {content: \"\";width: 100%;border-bottom: 1px solid gray;flex-grow: 1;}#sk-container-id-4 div.sk-label:hover label.sk-toggleable__label {background-color: #d4ebff;}#sk-container-id-4 div.sk-serial::before {content: \"\";position: absolute;border-left: 1px solid gray;box-sizing: border-box;top: 0;bottom: 0;left: 50%;z-index: 0;}#sk-container-id-4 div.sk-serial {display: flex;flex-direction: column;align-items: center;background-color: white;padding-right: 0.2em;padding-left: 0.2em;position: relative;}#sk-container-id-4 div.sk-item {position: relative;z-index: 1;}#sk-container-id-4 div.sk-parallel {display: flex;align-items: stretch;justify-content: center;background-color: white;position: relative;}#sk-container-id-4 div.sk-item::before, #sk-container-id-4 div.sk-parallel-item::before {content: \"\";position: absolute;border-left: 1px solid gray;box-sizing: border-box;top: 0;bottom: 0;left: 50%;z-index: -1;}#sk-container-id-4 div.sk-parallel-item {display: flex;flex-direction: column;z-index: 1;position: relative;background-color: white;}#sk-container-id-4 div.sk-parallel-item:first-child::after {align-self: flex-end;width: 50%;}#sk-container-id-4 div.sk-parallel-item:last-child::after {align-self: flex-start;width: 50%;}#sk-container-id-4 div.sk-parallel-item:only-child::after {width: 0;}#sk-container-id-4 div.sk-dashed-wrapped {border: 1px dashed gray;margin: 0 0.4em 0.5em 0.4em;box-sizing: border-box;padding-bottom: 0.4em;background-color: white;}#sk-container-id-4 div.sk-label label {font-family: monospace;font-weight: bold;display: inline-block;line-height: 1.2em;}#sk-container-id-4 div.sk-label-container {text-align: center;}#sk-container-id-4 div.sk-container {/* jupyter's `normalize.less` sets `[hidden] { display: none; }` but bootstrap.min.css set `[hidden] { display: none !important; }` so we also need the `!important` here to be able to override the default hidden behavior on the sphinx rendered scikit-learn.org. See: https://github.com/scikit-learn/scikit-learn/issues/21755 */display: inline-block !important;position: relative;}#sk-container-id-4 div.sk-text-repr-fallback {display: none;}</style><div id=\"sk-container-id-4\" class=\"sk-top-container\"><div class=\"sk-text-repr-fallback\"><pre>RandomizedSearchCV(cv=5, estimator=RandomForestClassifier(), n_iter=5,\n",
              "                   param_distributions={&#x27;max_depth&#x27;: &lt;scipy.stats._distn_infrastructure.rv_discrete_frozen object at 0x7fa2b7e9c8e0&gt;,\n",
              "                                        &#x27;n_estimators&#x27;: &lt;scipy.stats._distn_infrastructure.rv_discrete_frozen object at 0x7fa2b7ea0f70&gt;})</pre><b>In a Jupyter environment, please rerun this cell to show the HTML representation or trust the notebook. <br />On GitHub, the HTML representation is unable to render, please try loading this page with nbviewer.org.</b></div><div class=\"sk-container\" hidden><div class=\"sk-item sk-dashed-wrapped\"><div class=\"sk-label-container\"><div class=\"sk-label sk-toggleable\"><input class=\"sk-toggleable__control sk-hidden--visually\" id=\"sk-estimator-id-6\" type=\"checkbox\" ><label for=\"sk-estimator-id-6\" class=\"sk-toggleable__label sk-toggleable__label-arrow\">RandomizedSearchCV</label><div class=\"sk-toggleable__content\"><pre>RandomizedSearchCV(cv=5, estimator=RandomForestClassifier(), n_iter=5,\n",
              "                   param_distributions={&#x27;max_depth&#x27;: &lt;scipy.stats._distn_infrastructure.rv_discrete_frozen object at 0x7fa2b7e9c8e0&gt;,\n",
              "                                        &#x27;n_estimators&#x27;: &lt;scipy.stats._distn_infrastructure.rv_discrete_frozen object at 0x7fa2b7ea0f70&gt;})</pre></div></div></div><div class=\"sk-parallel\"><div class=\"sk-parallel-item\"><div class=\"sk-item\"><div class=\"sk-label-container\"><div class=\"sk-label sk-toggleable\"><input class=\"sk-toggleable__control sk-hidden--visually\" id=\"sk-estimator-id-7\" type=\"checkbox\" ><label for=\"sk-estimator-id-7\" class=\"sk-toggleable__label sk-toggleable__label-arrow\">estimator: RandomForestClassifier</label><div class=\"sk-toggleable__content\"><pre>RandomForestClassifier()</pre></div></div></div><div class=\"sk-serial\"><div class=\"sk-item\"><div class=\"sk-estimator sk-toggleable\"><input class=\"sk-toggleable__control sk-hidden--visually\" id=\"sk-estimator-id-8\" type=\"checkbox\" ><label for=\"sk-estimator-id-8\" class=\"sk-toggleable__label sk-toggleable__label-arrow\">RandomForestClassifier</label><div class=\"sk-toggleable__content\"><pre>RandomForestClassifier()</pre></div></div></div></div></div></div></div></div></div></div>"
            ]
          },
          "metadata": {},
          "execution_count": 164
        }
      ]
    },
    {
      "cell_type": "code",
      "source": [
        "# Create a variable for the best model\n",
        "best_rf = rand_search.best_estimator_\n",
        "\n",
        "# Print the best hyperparameters\n",
        "print('Best hyperparameters:',  rand_search.best_params_)"
      ],
      "metadata": {
        "colab": {
          "base_uri": "https://localhost:8080/"
        },
        "id": "2Lv_kHndcjxx",
        "outputId": "0dd229a6-e77c-4c92-881a-061d0426e2e4"
      },
      "execution_count": null,
      "outputs": [
        {
          "output_type": "stream",
          "name": "stdout",
          "text": [
            "Best hyperparameters: {'max_depth': 11, 'n_estimators': 157}\n"
          ]
        }
      ]
    },
    {
      "cell_type": "markdown",
      "source": [
        "***Modeling using Confusion Matrix***"
      ],
      "metadata": {
        "id": "dVdZ2-BHcy45"
      }
    },
    {
      "cell_type": "code",
      "source": [
        "# Generate predictions with the best model\n",
        "import tensorflow as tf\n",
        "label = tf.argmax(test_labels, axis = 1)\n",
        "pred =  tf.argmax(y_pred, axis = 1)\n",
        "y_pred = best_rf.predict(test_features)\n",
        "\n",
        "# Create the confusion matrix\n",
        "cm = confusion_matrix(label, pred)\n",
        "\n",
        "ConfusionMatrixDisplay(confusion_matrix=cm).plot();"
      ],
      "metadata": {
        "colab": {
          "base_uri": "https://localhost:8080/",
          "height": 449
        },
        "id": "c7tzauVPcygX",
        "outputId": "4e7d0314-59d4-43d9-a113-9f2f6762361c"
      },
      "execution_count": null,
      "outputs": [
        {
          "output_type": "display_data",
          "data": {
            "text/plain": [
              "<Figure size 640x480 with 2 Axes>"
            ],
            "image/png": "[encoded data removed]"
          },
          "metadata": {}
        }
      ]
    },
    {
      "cell_type": "code",
      "source": [
        "accuracy = accuracy_score(label, pred)\n",
        "precision = precision_score(label,pred,average='micro')\n",
        "recall = recall_score(label, pred,average='micro')\n",
        "\n",
        "print(\"Accuracy:\", accuracy)\n",
        "print(\"Precision:\", precision)\n",
        "print(\"Recall:\", recall)"
      ],
      "metadata": {
        "colab": {
          "base_uri": "https://localhost:8080/"
        },
        "id": "7jB--cHvfwpJ",
        "outputId": "9f1c8608-10bc-43b5-ec6d-983d911b5882"
      },
      "execution_count": null,
      "outputs": [
        {
          "output_type": "stream",
          "name": "stdout",
          "text": [
            "Accuracy: 0.6873617693522907\n",
            "Precision: 0.6873617693522907\n",
            "Recall: 0.6873617693522907\n"
          ]
        }
      ]
    },
    {
      "cell_type": "markdown",
      "source": [
        "Evaluating ML model on test data"
      ],
      "metadata": {
        "id": "behPxbWBPXeP"
      }
    },
    {
      "cell_type": "code",
      "source": [
        "#classification report on test dataset\n",
        "classif_re = classification_report(test_labels,y_pred)\n",
        "print(classif_re)"
      ],
      "metadata": {
        "colab": {
          "base_uri": "https://localhost:8080/"
        },
        "id": "GhGD6a_APdBW",
        "outputId": "a8c7f9b8-4b0b-4701-d396-1e6ee487896b"
      },
      "execution_count": null,
      "outputs": [
        {
          "output_type": "stream",
          "name": "stdout",
          "text": [
            "              precision    recall  f1-score   support\n",
            "\n",
            "           0       0.63      0.70      0.66      1234\n",
            "           1       0.79      0.73      0.76      2324\n",
            "           2       0.85      0.74      0.79      2538\n",
            "           3       0.00      0.00      0.00       234\n",
            "\n",
            "   micro avg       0.78      0.70      0.74      6330\n",
            "   macro avg       0.57      0.54      0.55      6330\n",
            "weighted avg       0.76      0.70      0.73      6330\n",
            " samples avg       0.70      0.70      0.70      6330\n",
            "\n"
          ]
        },
        {
          "output_type": "stream",
          "name": "stderr",
          "text": [
            "/usr/local/lib/python3.9/dist-packages/sklearn/metrics/_classification.py:1344: UndefinedMetricWarning: Precision and F-score are ill-defined and being set to 0.0 in samples with no predicted labels. Use `zero_division` parameter to control this behavior.\n",
            "  _warn_prf(average, modifier, msg_start, len(result))\n"
          ]
        }
      ]
    },
    {
      "cell_type": "code",
      "source": [
        "# f1_score of the model\n",
        "f1score = f1_score(test_labels,y_pred, average='weighted')\n",
        "print(f1score)"
      ],
      "metadata": {
        "colab": {
          "base_uri": "https://localhost:8080/"
        },
        "id": "eO1ODY7dQL1l",
        "outputId": "123902a2-d14a-43bd-d44a-e9116478024b"
      },
      "execution_count": null,
      "outputs": [
        {
          "output_type": "stream",
          "name": "stdout",
          "text": [
            "0.7261352770957554\n"
          ]
        }
      ]
    },
    {
      "cell_type": "markdown",
      "source": [
        "***Modeling using Decision Tree***"
      ],
      "metadata": {
        "id": "qmxrlLqdTGiM"
      }
    },
    {
      "cell_type": "markdown",
      "source": [
        "# Classification using neural networks"
      ],
      "metadata": {
        "id": "a0R60PRXyr7i"
      }
    },
    {
      "cell_type": "code",
      "source": [
        "print(train_features.shape)"
      ],
      "metadata": {
        "colab": {
          "base_uri": "https://localhost:8080/"
        },
        "id": "hIBhzYNyy5LZ",
        "outputId": "bbcf86fa-ae22-49a7-86fa-8f7958cd32a8"
      },
      "execution_count": null,
      "outputs": [
        {
          "output_type": "stream",
          "name": "stdout",
          "text": [
            "(25317, 30)\n"
          ]
        }
      ]
    },
    {
      "cell_type": "code",
      "source": [
        "print(train_labels.shape)"
      ],
      "metadata": {
        "colab": {
          "base_uri": "https://localhost:8080/"
        },
        "id": "FiYJGt99zFt-",
        "outputId": "3f559251-a457-4976-e00d-3430043b9b0c"
      },
      "execution_count": null,
      "outputs": [
        {
          "output_type": "stream",
          "name": "stdout",
          "text": [
            "(25317, 4)\n"
          ]
        }
      ]
    },
    {
      "cell_type": "code",
      "source": [
        "print(test_features.shape)"
      ],
      "metadata": {
        "colab": {
          "base_uri": "https://localhost:8080/"
        },
        "id": "WQonF7pnzhw7",
        "outputId": "44695c43-dddf-438b-e35e-85a0f4fde328"
      },
      "execution_count": null,
      "outputs": [
        {
          "output_type": "stream",
          "name": "stdout",
          "text": [
            "(6330, 30)\n"
          ]
        }
      ]
    },
    {
      "cell_type": "code",
      "source": [
        "print(test_labels.shape)"
      ],
      "metadata": {
        "colab": {
          "base_uri": "https://localhost:8080/"
        },
        "id": "83SGPAEgzqGF",
        "outputId": "ad06954d-9c9e-490d-9484-bfc5bbb9696e"
      },
      "execution_count": null,
      "outputs": [
        {
          "output_type": "stream",
          "name": "stdout",
          "text": [
            "(6330, 4)\n"
          ]
        }
      ]
    },
    {
      "cell_type": "code",
      "source": [
        "# Let's print the percentage or target categories in both the training and test dataset\n",
        "# printing the percentage means we can compare whether the two label distributions are similar\n",
        "print('Label distribution in training dataset')\n",
        "print(train_labels.value_counts(normalize=True))\n",
        "\n",
        "print('Label distribution in test dataset')\n",
        "print(test_labels.value_counts(normalize=True))"
      ],
      "metadata": {
        "colab": {
          "base_uri": "https://localhost:8080/"
        },
        "id": "qgpgZ5Oz0LOl",
        "outputId": "a01dd7b0-807e-4896-8400-f45eda29f4a6"
      },
      "execution_count": null,
      "outputs": [
        {
          "output_type": "stream",
          "name": "stdout",
          "text": [
            "Label distribution in training dataset\n",
            "accident_severity_fatal  accident_severity_serious  accident_severity_slight  accident_severity_nan\n",
            "0.0                      0.0                        1.0                       0.0                      0.401035\n",
            "                         1.0                        0.0                       0.0                      0.367066\n",
            "1.0                      0.0                        0.0                       0.0                      0.194849\n",
            "0.0                      0.0                        0.0                       1.0                      0.037050\n",
            "dtype: float64\n",
            "Label distribution in test dataset\n",
            "accident_severity_fatal  accident_severity_serious  accident_severity_slight  accident_severity_nan\n",
            "0.0                      0.0                        1.0                       0.0                      0.400948\n",
            "                         1.0                        0.0                       0.0                      0.367141\n",
            "1.0                      0.0                        0.0                       0.0                      0.194945\n",
            "0.0                      0.0                        0.0                       1.0                      0.036967\n",
            "dtype: float64\n"
          ]
        }
      ]
    },
    {
      "cell_type": "markdown",
      "source": [
        "Modeling"
      ],
      "metadata": {
        "id": "ftB_aZOu10ls"
      }
    },
    {
      "cell_type": "code",
      "source": [
        "import tensorflow as tf\n",
        "from tensorflow.keras import datasets, layers, models\n",
        "\n",
        "# create a simple model with ONE hidden layer only\n",
        "model = models.Sequential()\n",
        "# we will create a hidden layer with 20 nodes.\n",
        "hidden_layer_nodes = 20\n",
        "num_of_input_features = train_features.shape[1] #number of features = number of columns in the input matrix\n",
        "\n",
        "# We can specify an input layer to tell Keras what input to expect.\n",
        "# we tell Keras how many features to expect for each datapoint. This way Keras\n",
        "# knows how many weights are needed between the input and the first hidden layer\n",
        "model.add(layers.Input(shape=(num_of_input_features,)))\n",
        "model.add(layers.Dense(hidden_layer_nodes, activation='relu'))\n",
        "model.add(layers.Dense(1, activation='sigmoid')) #is it clear why here we use \"sigmoid\" and use \"softmax\" for multi-class problems?\n",
        "\n",
        "# as metric we choose the accuracy: the total number of correct predictions made\n",
        "# Adam is a typical choice for an optimizer and tends to perform well in practice\n",
        "# the most typical choice for the loss function is the binary cross entropy since\n",
        "# we are solving a binary classification task. If we were solving a multi-class classification\n",
        "# task, we'd choose the categorical cross entropy (that is, the more general version)\n",
        "learning_rate = 0.001\n",
        "model.compile(optimizer=tf.keras.optimizers.Adam(learning_rate=learning_rate),\n",
        "              loss=tf.keras.losses.BinaryCrossentropy(), #we use this function for BINARY CLASSIFICATION\n",
        "              metrics=['accuracy'])\n",
        "\n",
        "# let's print a summary of the model to see what it's like\n",
        "print(model.summary())"
      ],
      "metadata": {
        "colab": {
          "base_uri": "https://localhost:8080/"
        },
        "id": "iFz89OAc17P4",
        "outputId": "02c424ed-f3dd-4d40-eee8-bc52e0b4193f"
      },
      "execution_count": null,
      "outputs": [
        {
          "output_type": "stream",
          "name": "stdout",
          "text": [
            "Model: \"sequential_3\"\n",
            "_________________________________________________________________\n",
            " Layer (type)                Output Shape              Param #   \n",
            "=================================================================\n",
            " dense_2 (Dense)             (None, 20)                620       \n",
            "                                                                 \n",
            " dense_3 (Dense)             (None, 1)                 21        \n",
            "                                                                 \n",
            "=================================================================\n",
            "Total params: 641\n",
            "Trainable params: 641\n",
            "Non-trainable params: 0\n",
            "_________________________________________________________________\n",
            "None\n"
          ]
        }
      ]
    },
    {
      "cell_type": "markdown",
      "source": [
        "Data imbalance"
      ],
      "metadata": {
        "id": "xPlnnkqZ2Alz"
      }
    },
    {
      "cell_type": "code",
      "source": [
        "# compute class weights to counteract lable data imbalance\n",
        "from sklearn.utils import class_weight\n",
        "class_weights = class_weight.compute_class_weight(\n",
        "    class_weight= \"balanced\",\n",
        "    classes = np.unique(train_labels),\n",
        "    y = train_labels.values.reshape(-1))\n",
        "\n",
        "# we turn the weights into a dictionary\n",
        "class_weights = dict(zip(np.unique(train_labels), class_weights))\n",
        "\n",
        "# Let's print the results\n",
        "# note that encoded label 0 corresponds to the original label 'N': there are fewer instances of 'N' so this class is given a higher weight in the loss function\n",
        "print(class_weights)"
      ],
      "metadata": {
        "colab": {
          "base_uri": "https://localhost:8080/"
        },
        "id": "xMgr3h642CAs",
        "outputId": "faf0df60-9cb8-44b1-f918-87686e6564a1"
      },
      "execution_count": null,
      "outputs": [
        {
          "output_type": "stream",
          "name": "stdout",
          "text": [
            "{0.0: 0.6666666666666666, 1.0: 2.0}\n"
          ]
        }
      ]
    },
    {
      "cell_type": "code",
      "source": [
        "print(train_features.shape)"
      ],
      "metadata": {
        "colab": {
          "base_uri": "https://localhost:8080/"
        },
        "id": "504Dw9KVHaDY",
        "outputId": "a8b71f77-6bf8-431f-d8e3-678d422b49e6"
      },
      "execution_count": null,
      "outputs": [
        {
          "output_type": "stream",
          "name": "stdout",
          "text": [
            "(25317, 30)\n"
          ]
        }
      ]
    },
    {
      "cell_type": "code",
      "source": [
        "print(train_labels.shape)"
      ],
      "metadata": {
        "colab": {
          "base_uri": "https://localhost:8080/"
        },
        "id": "fHTWsLE_Hjof",
        "outputId": "be59dfe0-cb7c-4a18-caf4-244f59a5ad9e"
      },
      "execution_count": null,
      "outputs": [
        {
          "output_type": "stream",
          "name": "stdout",
          "text": [
            "(25317, 4)\n"
          ]
        }
      ]
    },
    {
      "cell_type": "markdown",
      "source": [
        "Model training"
      ],
      "metadata": {
        "id": "UBYZR6nj2GtE"
      }
    },
    {
      "cell_type": "code",
      "source": [
        "# Training\n",
        "# let's define some relevant hyper-parameters:\n",
        "batch_size = 100   # The batch size indicates how many data points we use to compute each update to the parameters of the models (based on the gradient of the loss)\n",
        "epochs = 25       #how long we train the model for\n",
        "validation_split = 0.2     #Fraction of the training data to be used as validation data.\n",
        "#tf.expand_dims(train_features,axis=-1)\n",
        "#train_features = train_features.batch(batch_size)\n",
        "#train_features = train_features.values.reshape(-1)\n",
        "#history = model.fit(tf.expand_dims(train_features,1),\n",
        "data_list = tf.stack(train_features)\n",
        "y = tf.stack(y)\n",
        "history = model.fit(train_features,\n",
        "                    train_labels,\n",
        "                    epochs=epochs,\n",
        "                    batch_size=batch_size,\n",
        "                    validation_split= validation_split,\n",
        "                    class_weight= class_weights,\n",
        "                    )\n",
        "\n",
        "# note that the output variable \"history\" keeps track of the model performance at each epoch\n"
      ],
      "metadata": {
        "colab": {
          "base_uri": "https://localhost:8080/",
          "height": 796
        },
        "id": "EKOmjG7v2KUc",
        "outputId": "871cdaed-f0fc-4325-f881-b8aa55a4578e"
      },
      "execution_count": null,
      "outputs": [
        {
          "output_type": "stream",
          "name": "stdout",
          "text": [
            "Epoch 1/25\n"
          ]
        },
        {
          "output_type": "error",
          "ename": "ValueError",
          "evalue": "ignored",
          "traceback": [
            "\u001b[0;31m---------------------------------------------------------------------------\u001b[0m",
            "\u001b[0;31mValueError\u001b[0m                                Traceback (most recent call last)",
            "\u001b[0;32m<ipython-input-180-3196838ae8b5>\u001b[0m in \u001b[0;36m<cell line: 12>\u001b[0;34m()\u001b[0m\n\u001b[1;32m     10\u001b[0m \u001b[0mdata_list\u001b[0m \u001b[0;34m=\u001b[0m \u001b[0mtf\u001b[0m\u001b[0;34m.\u001b[0m\u001b[0mstack\u001b[0m\u001b[0;34m(\u001b[0m\u001b[0mtrain_features\u001b[0m\u001b[0;34m)\u001b[0m\u001b[0;34m\u001b[0m\u001b[0;34m\u001b[0m\u001b[0m\n\u001b[1;32m     11\u001b[0m \u001b[0my\u001b[0m \u001b[0;34m=\u001b[0m \u001b[0mtf\u001b[0m\u001b[0;34m.\u001b[0m\u001b[0mstack\u001b[0m\u001b[0;34m(\u001b[0m\u001b[0my\u001b[0m\u001b[0;34m)\u001b[0m\u001b[0;34m\u001b[0m\u001b[0;34m\u001b[0m\u001b[0m\n\u001b[0;32m---> 12\u001b[0;31m history = model.fit(train_features,\n\u001b[0m\u001b[1;32m     13\u001b[0m                     \u001b[0mtrain_labels\u001b[0m\u001b[0;34m,\u001b[0m\u001b[0;34m\u001b[0m\u001b[0;34m\u001b[0m\u001b[0m\n\u001b[1;32m     14\u001b[0m                     \u001b[0mepochs\u001b[0m\u001b[0;34m=\u001b[0m\u001b[0mepochs\u001b[0m\u001b[0;34m,\u001b[0m\u001b[0;34m\u001b[0m\u001b[0;34m\u001b[0m\u001b[0m\n",
            "\u001b[0;32m/usr/local/lib/python3.9/dist-packages/keras/utils/traceback_utils.py\u001b[0m in \u001b[0;36merror_handler\u001b[0;34m(*args, **kwargs)\u001b[0m\n\u001b[1;32m     68\u001b[0m             \u001b[0;31m# To get the full stack trace, call:\u001b[0m\u001b[0;34m\u001b[0m\u001b[0;34m\u001b[0m\u001b[0m\n\u001b[1;32m     69\u001b[0m             \u001b[0;31m# `tf.debugging.disable_traceback_filtering()`\u001b[0m\u001b[0;34m\u001b[0m\u001b[0;34m\u001b[0m\u001b[0m\n\u001b[0;32m---> 70\u001b[0;31m             \u001b[0;32mraise\u001b[0m \u001b[0me\u001b[0m\u001b[0;34m.\u001b[0m\u001b[0mwith_traceback\u001b[0m\u001b[0;34m(\u001b[0m\u001b[0mfiltered_tb\u001b[0m\u001b[0;34m)\u001b[0m \u001b[0;32mfrom\u001b[0m \u001b[0;32mNone\u001b[0m\u001b[0;34m\u001b[0m\u001b[0;34m\u001b[0m\u001b[0m\n\u001b[0m\u001b[1;32m     71\u001b[0m         \u001b[0;32mfinally\u001b[0m\u001b[0;34m:\u001b[0m\u001b[0;34m\u001b[0m\u001b[0;34m\u001b[0m\u001b[0m\n\u001b[1;32m     72\u001b[0m             \u001b[0;32mdel\u001b[0m \u001b[0mfiltered_tb\u001b[0m\u001b[0;34m\u001b[0m\u001b[0;34m\u001b[0m\u001b[0m\n",
            "\u001b[0;32m/usr/local/lib/python3.9/dist-packages/keras/engine/training.py\u001b[0m in \u001b[0;36mtf__train_function\u001b[0;34m(iterator)\u001b[0m\n\u001b[1;32m     13\u001b[0m                 \u001b[0;32mtry\u001b[0m\u001b[0;34m:\u001b[0m\u001b[0;34m\u001b[0m\u001b[0;34m\u001b[0m\u001b[0m\n\u001b[1;32m     14\u001b[0m                     \u001b[0mdo_return\u001b[0m \u001b[0;34m=\u001b[0m \u001b[0;32mTrue\u001b[0m\u001b[0;34m\u001b[0m\u001b[0;34m\u001b[0m\u001b[0m\n\u001b[0;32m---> 15\u001b[0;31m                     \u001b[0mretval_\u001b[0m \u001b[0;34m=\u001b[0m \u001b[0mag__\u001b[0m\u001b[0;34m.\u001b[0m\u001b[0mconverted_call\u001b[0m\u001b[0;34m(\u001b[0m\u001b[0mag__\u001b[0m\u001b[0;34m.\u001b[0m\u001b[0mld\u001b[0m\u001b[0;34m(\u001b[0m\u001b[0mstep_function\u001b[0m\u001b[0;34m)\u001b[0m\u001b[0;34m,\u001b[0m \u001b[0;34m(\u001b[0m\u001b[0mag__\u001b[0m\u001b[0;34m.\u001b[0m\u001b[0mld\u001b[0m\u001b[0;34m(\u001b[0m\u001b[0mself\u001b[0m\u001b[0;34m)\u001b[0m\u001b[0;34m,\u001b[0m \u001b[0mag__\u001b[0m\u001b[0;34m.\u001b[0m\u001b[0mld\u001b[0m\u001b[0;34m(\u001b[0m\u001b[0miterator\u001b[0m\u001b[0;34m)\u001b[0m\u001b[0;34m)\u001b[0m\u001b[0;34m,\u001b[0m \u001b[0;32mNone\u001b[0m\u001b[0;34m,\u001b[0m \u001b[0mfscope\u001b[0m\u001b[0;34m)\u001b[0m\u001b[0;34m\u001b[0m\u001b[0;34m\u001b[0m\u001b[0m\n\u001b[0m\u001b[1;32m     16\u001b[0m                 \u001b[0;32mexcept\u001b[0m\u001b[0;34m:\u001b[0m\u001b[0;34m\u001b[0m\u001b[0;34m\u001b[0m\u001b[0m\n\u001b[1;32m     17\u001b[0m                     \u001b[0mdo_return\u001b[0m \u001b[0;34m=\u001b[0m \u001b[0;32mFalse\u001b[0m\u001b[0;34m\u001b[0m\u001b[0;34m\u001b[0m\u001b[0m\n",
            "\u001b[0;31mValueError\u001b[0m: in user code:\n\n    File \"/usr/local/lib/python3.9/dist-packages/keras/engine/training.py\", line 1284, in train_function  *\n        return step_function(self, iterator)\n    File \"/usr/local/lib/python3.9/dist-packages/keras/engine/training.py\", line 1268, in step_function  **\n        outputs = model.distribute_strategy.run(run_step, args=(data,))\n    File \"/usr/local/lib/python3.9/dist-packages/keras/engine/training.py\", line 1249, in run_step  **\n        outputs = model.train_step(data)\n    File \"/usr/local/lib/python3.9/dist-packages/keras/engine/training.py\", line 1051, in train_step\n        loss = self.compute_loss(x, y, y_pred, sample_weight)\n    File \"/usr/local/lib/python3.9/dist-packages/keras/engine/training.py\", line 1109, in compute_loss\n        return self.compiled_loss(\n    File \"/usr/local/lib/python3.9/dist-packages/keras/engine/compile_utils.py\", line 265, in __call__\n        loss_value = loss_obj(y_t, y_p, sample_weight=sw)\n    File \"/usr/local/lib/python3.9/dist-packages/keras/losses.py\", line 142, in __call__\n        losses = call_fn(y_true, y_pred)\n    File \"/usr/local/lib/python3.9/dist-packages/keras/losses.py\", line 268, in call  **\n        return ag_fn(y_true, y_pred, **self._fn_kwargs)\n    File \"/usr/local/lib/python3.9/dist-packages/keras/losses.py\", line 2156, in binary_crossentropy\n        backend.binary_crossentropy(y_true, y_pred, from_logits=from_logits),\n    File \"/usr/local/lib/python3.9/dist-packages/keras/backend.py\", line 5707, in binary_crossentropy\n        return tf.nn.sigmoid_cross_entropy_with_logits(\n\n    ValueError: `logits` and `labels` must have the same shape, received ((None, 1) vs (None, 4)).\n"
          ]
        }
      ]
    },
    {
      "cell_type": "markdown",
      "source": [
        "Evaluation"
      ],
      "metadata": {
        "id": "hptGJT5h2Qjs"
      }
    },
    {
      "cell_type": "code",
      "source": [
        "# let's see what's within the 'history' variable\n",
        "history.history.keys()"
      ],
      "metadata": {
        "id": "K6EQzZ6a2S1M"
      },
      "execution_count": null,
      "outputs": []
    },
    {
      "cell_type": "code",
      "source": [
        "# Plot training curves for both training and validation data\n",
        "# loss per epoch\n",
        "plt.figure()\n",
        "plt.plot(history.history['loss'], label='train_loss')\n",
        "plt.plot(history.history['val_loss'], label = 'val_loss')\n",
        "plt.xlabel('Epoch')\n",
        "plt.ylabel('Loss (binary cross-entropy)')\n",
        "plt.legend(loc='lower right')\n",
        "\n",
        "#accuracy per epoch\n",
        "plt.figure()\n",
        "plt.plot(history.history['accuracy'], label='train_accuracy')\n",
        "plt.plot(history.history['val_accuracy'], label = 'val_accuracy')\n",
        "plt.xlabel('Epoch')\n",
        "plt.ylabel('Accuracy')\n",
        "plt.legend(loc='lower right')"
      ],
      "metadata": {
        "id": "fzBCWy3N2WXM"
      },
      "execution_count": null,
      "outputs": []
    },
    {
      "cell_type": "code",
      "source": [
        "from sklearn.metrics import confusion_matrix, ConfusionMatrixDisplay, classification_report\n",
        "from sklearn.metrics import balanced_accuracy_score\n",
        "\n",
        "# Check performance on test data\n",
        "test_probabilities = model.predict(X_test_preprocessed)\n",
        "# There is a small difference from scikit-learn when we call .predict()\n",
        "# Keras returns the *class probabilities* rather than the predictions\n",
        "# For a binary classification problem, this is the probability that a data point\n",
        "# belongs to class 1.\n",
        "# So, to get the class we apply a threshold of 0.5: if the probability of being in\n",
        "# class 1 is higher than 0.5 we assign that data point to class 1, otherwise to\n",
        "# class 0. This is done by the following line:\n",
        "test_predictions = test_probabilities > .5\n",
        "\n",
        "# let's show the classification report with all the metrics\n",
        "# think about which metrics you think are the most important ones for this problem!\n",
        "print(classification_report(test_encoded_labels,test_predictions,\n",
        "                            target_names= lblEncoder_Y.classes_)) # this is to give the real categories, not their encoded numbers\n",
        "\n",
        "# let's also print the balanced accuracy score, since we know the dataset is not balanced\n",
        "print(f'The balanced accuracy score is {balanced_accuracy_score(test_encoded_labels,test_predictions):.3f}\\n')\n",
        "\n",
        "# let's get all the numbers for the confusion matrix\n",
        "cm = confusion_matrix(test_encoded_labels,test_predictions)#,\n",
        "#                      labels= lblEncoder_Y.classes_) # this is to give the real categories, not their encoded numbers\n",
        "\n",
        "# let's show the confusion matrix in a plot\n",
        "disp = ConfusionMatrixDisplay(confusion_matrix=cm,\n",
        "                               display_labels= lblEncoder_Y.classes_) # this is to give the real categories, not their encoded numbers\n",
        "disp.plot()\n",
        "plt.show()"
      ],
      "metadata": {
        "id": "6GlmzLyc2bb5"
      },
      "execution_count": null,
      "outputs": []
    },
    {
      "cell_type": "markdown",
      "source": [
        "Scikeras"
      ],
      "metadata": {
        "id": "NpCZCtHy2mwN"
      }
    },
    {
      "cell_type": "code",
      "source": [
        "!pip install scikeras[tensorflow]"
      ],
      "metadata": {
        "id": "m-RVqLb12lDu"
      },
      "execution_count": null,
      "outputs": []
    },
    {
      "cell_type": "code",
      "source": [
        "from scikeras.wrappers import KerasClassifier\n",
        "from sklearn.model_selection import GridSearchCV\n",
        "\n",
        "\n",
        "def one_layer_model(num_of_input_features, hidden_layer_nodes=20):\n",
        "    \"\"\"\n",
        "    We wrap the model into a function for better usability.\n",
        "    We make some of the important hyper-parameters, like the learning rate,\n",
        "    as arguments to the function. This way we can test different values for these\n",
        "    hyperparameters without having to change the hard-coded model itself.\n",
        "    \"\"\"\n",
        "    # create a simple model with ONE hidden layer only\n",
        "    model = models.Sequential()\n",
        "    # we create a hidden layer with 20 nodes.\n",
        "    # Here we can directly give it the input shape. Otherwise we can also create a separate input layer\n",
        "    model.add(layers.Dense(hidden_layer_nodes, input_dim=num_of_input_features, activation='relu'))\n",
        "    model.add(layers.Dense(1, activation='sigmoid')) #is it clear why here we use \"sigmoid\" and use \"softmax\" for multi-class problems?\n",
        "    return model"
      ],
      "metadata": {
        "id": "Ehp_AYUP2pyV"
      },
      "execution_count": null,
      "outputs": []
    },
    {
      "cell_type": "code",
      "source": [
        "clf = KerasClassifier(\n",
        "    model=one_layer_model,\n",
        "    loss=\"binary_crossentropy\",\n",
        "    model__hidden_layer_nodes=20,\n",
        "    num_of_input_features= X_train_preprocessed.shape[1],\n",
        "    epochs= 50,\n",
        "    batch_size= 64,\n",
        "    verbose= 0,\n",
        "    validation_split= 0.2,\n",
        "    optimizer = \"adam\",\n",
        "    optimizer__learning_rate = 0.001,\n",
        ")\n"
      ],
      "metadata": {
        "id": "zQV4JgmE2weo"
      },
      "execution_count": null,
      "outputs": []
    },
    {
      "cell_type": "code",
      "source": [
        "params = {\n",
        "    'optimizer__learning_rate': [0.01, 0.001],\n",
        "    'model__hidden_layer_nodes': [20,30,40],\n",
        "}\n",
        "\n",
        "gs = GridSearchCV(clf, params, scoring='balanced_accuracy', verbose=True)\n",
        "\n",
        "gs.fit(X_train_preprocessed, train_encoded_labels)\n",
        "\n",
        "print(gs.best_score_, gs.best_params_)"
      ],
      "metadata": {
        "id": "407E99vS2yq9"
      },
      "execution_count": null,
      "outputs": []
    }
  ]
}